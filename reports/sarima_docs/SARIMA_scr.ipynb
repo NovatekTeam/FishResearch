{
  "cells": [
    {
      "cell_type": "code",
      "execution_count": 7,
      "metadata": {},
      "outputs": [],
      "source": [
        "import matplotlib.pyplot as plt  # plots\n",
        "import numpy as np  # vectors and matrices\n",
        "import pandas as pd  # tables and data manipulations\n",
        "import seaborn as sns  # more plots\n",
        "from sklearn.metrics import (mean_absolute_error, mean_squared_error,\n",
        "                             mean_squared_log_error, median_absolute_error,\n",
        "                             r2_score)\n",
        "import warnings  \n",
        "from itertools import product  # some useful functions\n",
        "import scipy.stats as scs\n",
        "import statsmodels.api as sm\n",
        "import statsmodels.formula.api as smf  # statistics and econometrics\n",
        "import statsmodels.tsa.api as smt\n",
        "from dateutil.relativedelta import relativedelta  # working with dates with style\n",
        "from scipy.optimize import minimize  # for function minimization\n",
        "from tqdm.notebook import tqdm"
      ]
    },
    {
      "cell_type": "code",
      "execution_count": 8,
      "metadata": {},
      "outputs": [],
      "source": [
        "sns.set()\n",
        "warnings.filterwarnings(\"ignore\") # `do not disturbe` mode\n",
        "\n",
        "%matplotlib inline\n",
        "%config InlineBackend.figure_format = 'retina'"
      ]
    },
    {
      "cell_type": "code",
      "execution_count": 9,
      "metadata": {},
      "outputs": [],
      "source": [
        "def mean_absolute_percentage_error(y_true, y_pred):\n",
        "    return np.mean(np.abs((y_true - y_pred) / y_true)) * 100"
      ]
    },
    {
      "cell_type": "code",
      "execution_count": 10,
      "metadata": {},
      "outputs": [],
      "source": [
        "def moving_average(series, n):\n",
        "    return np.average(series[-n:])"
      ]
    },
    {
      "cell_type": "code",
      "execution_count": 11,
      "metadata": {},
      "outputs": [],
      "source": [
        "def anomalies_bonds(series, window=4, scale=1.96):\n",
        "    \n",
        "    result = pd.DataFrame()\n",
        "    rolling_mean = series.rolling(window=window).mean()\n",
        "    \n",
        "    mae = mean_absolute_error(series[window:], rolling_mean[window:])\n",
        "    deviation = np.std(series[window:] - rolling_mean[window:])\n",
        "    lower_bond = rolling_mean - (mae + scale * deviation)\n",
        "    upper_bond = rolling_mean + (mae + scale * deviation)\n",
        "    result['lower_bond'] = lower_bond\n",
        "    result['upper_bond'] = upper_bond\n",
        "    anomalies = pd.DataFrame(index=series.index, columns=series.columns)\n",
        "    anomalies[series < lower_bond] = series[series < lower_bond]\n",
        "    anomalies[series > upper_bond] = series[series > upper_bond]\n",
        "    result['anomalies'] = anomalies\n",
        "    \n",
        "    return result"
      ]
    },
    {
      "cell_type": "code",
      "execution_count": 20,
      "metadata": {},
      "outputs": [],
      "source": [
        "def sarima_anomalies_detect(load_path):\n",
        "    dataframe = pd.read_csv(load_path)\n",
        "    id_ves = pd.Series(dataframe['id.ves']).unique()\n",
        "    rate_ves = pd.DataFrame()\n",
        "    for ves in id_ves:\n",
        "        aggr_df = dataframe.loc[dataframe['id.ves']==ves].groupby(\"date\")[[\"catch.volume\"]].sum()\n",
        "        if aggr_df.size > 20:\n",
        "            anomalies = anomalies_bonds(aggr_df)    \n",
        "            aggr_df['id.ves'] = ves\n",
        "            aggr_df['id.own'] = dataframe.loc[dataframe['id.ves']==ves]['id.own'].max()\n",
        "            aggr_df = pd.concat([aggr_df, anomalies], axis=1)\n",
        "            aggr_df = aggr_df.reset_index()\n",
        "            rate_ves = pd.concat([rate_ves, aggr_df], axis=0)\n",
        "\n",
        "    rate_ves.loc[(rate_ves.anomalies > 0), 'anomalies']  = 1\n",
        "    rate_ves.loc[(rate_ves.anomalies.isna()), 'anomalies']  = 0\n",
        "    save_path = f'{load_path.split(\".csv\")[0]}_sarima_predict.csv'\n",
        "    rate_ves.to_csv(f'{save_path}')"
      ]
    },
    {
      "cell_type": "code",
      "execution_count": 21,
      "metadata": {},
      "outputs": [],
      "source": [
        "load_path = '/home/savin/Documents/DEV/dataset_fish/Датасет/test_data/db1/catch.csv'\n",
        "sarima_anomalies_detect(load_path)"
      ]
    }
  ],
  "metadata": {
    "accelerator": "GPU",
    "colab": {
      "collapsed_sections": [],
      "name": "ood_detection.ipynb",
      "provenance": [],
      "toc_visible": true
    },
    "interpreter": {
      "hash": "4b2fecc064183793f8c0ea93cbbf4db177fc7dac51d6ac04a6e4610799014929"
    },
    "kernelspec": {
      "display_name": "Python 3.7.4 64-bit",
      "language": "python",
      "name": "python3"
    },
    "language_info": {
      "codemirror_mode": {
        "name": "ipython",
        "version": 3
      },
      "file_extension": ".py",
      "mimetype": "text/x-python",
      "name": "python",
      "nbconvert_exporter": "python",
      "pygments_lexer": "ipython3",
      "version": "3.8.10"
    }
  },
  "nbformat": 4,
  "nbformat_minor": 0
}
