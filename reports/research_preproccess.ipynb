{
 "cells": [
  {
   "cell_type": "code",
   "execution_count": 3,
   "metadata": {},
   "outputs": [],
   "source": [
    "import pandas as pd\n",
    "import os"
   ]
  },
  {
   "cell_type": "code",
   "execution_count": 242,
   "metadata": {},
   "outputs": [],
   "source": [
    "df_catch = pd.read_csv(os.path.join('db1','catch.csv'))"
   ]
  },
  {
   "cell_type": "code",
   "execution_count": 265,
   "metadata": {},
   "outputs": [],
   "source": [
    "df_product = pd.read_csv(os.path.join('db1','product.csv'))"
   ]
  },
  {
   "cell_type": "code",
   "execution_count": null,
   "metadata": {},
   "outputs": [],
   "source": [
    "df_ext = pd.read_csv(os.path.join('db2','Ext.csv'))\n",
    "df_ext2 = pd.read_csv(os.path.join('db2','Ext2.csv'))"
   ]
  },
  {
   "cell_type": "markdown",
   "metadata": {},
   "source": [
    "## Preproccessing"
   ]
  },
  {
   "cell_type": "markdown",
   "metadata": {},
   "source": [
    "#### Catch"
   ]
  },
  {
   "cell_type": "code",
   "execution_count": 263,
   "metadata": {},
   "outputs": [
    {
     "data": {
      "text/html": [
       "<div>\n",
       "<style scoped>\n",
       "    .dataframe tbody tr th:only-of-type {\n",
       "        vertical-align: middle;\n",
       "    }\n",
       "\n",
       "    .dataframe tbody tr th {\n",
       "        vertical-align: top;\n",
       "    }\n",
       "\n",
       "    .dataframe thead th {\n",
       "        text-align: right;\n",
       "    }\n",
       "</style>\n",
       "<table border=\"1\" class=\"dataframe\">\n",
       "  <thead>\n",
       "    <tr style=\"text-align: right;\">\n",
       "      <th></th>\n",
       "      <th>id_ves</th>\n",
       "      <th>date</th>\n",
       "      <th>id_region</th>\n",
       "      <th>id_fish</th>\n",
       "      <th>catch_volume</th>\n",
       "      <th>id_regime</th>\n",
       "      <th>permit</th>\n",
       "      <th>id_own</th>\n",
       "    </tr>\n",
       "  </thead>\n",
       "  <tbody>\n",
       "    <tr>\n",
       "      <th>0</th>\n",
       "      <td>1628</td>\n",
       "      <td>2022-01-01</td>\n",
       "      <td>272</td>\n",
       "      <td>400</td>\n",
       "      <td>31.874</td>\n",
       "      <td>41</td>\n",
       "      <td>2824</td>\n",
       "      <td>961</td>\n",
       "    </tr>\n",
       "    <tr>\n",
       "      <th>1</th>\n",
       "      <td>70</td>\n",
       "      <td>2022-01-01</td>\n",
       "      <td>277</td>\n",
       "      <td>886</td>\n",
       "      <td>0.476</td>\n",
       "      <td>1</td>\n",
       "      <td>2414</td>\n",
       "      <td>1281</td>\n",
       "    </tr>\n",
       "    <tr>\n",
       "      <th>2</th>\n",
       "      <td>1608</td>\n",
       "      <td>2022-01-01</td>\n",
       "      <td>116</td>\n",
       "      <td>409</td>\n",
       "      <td>26.310</td>\n",
       "      <td>15</td>\n",
       "      <td>3031</td>\n",
       "      <td>1227</td>\n",
       "    </tr>\n",
       "    <tr>\n",
       "      <th>3</th>\n",
       "      <td>832</td>\n",
       "      <td>2022-01-01</td>\n",
       "      <td>272</td>\n",
       "      <td>292</td>\n",
       "      <td>9.541</td>\n",
       "      <td>1</td>\n",
       "      <td>1894</td>\n",
       "      <td>1281</td>\n",
       "    </tr>\n",
       "    <tr>\n",
       "      <th>4</th>\n",
       "      <td>832</td>\n",
       "      <td>2022-01-01</td>\n",
       "      <td>272</td>\n",
       "      <td>113</td>\n",
       "      <td>0.062</td>\n",
       "      <td>1</td>\n",
       "      <td>1894</td>\n",
       "      <td>1281</td>\n",
       "    </tr>\n",
       "  </tbody>\n",
       "</table>\n",
       "</div>"
      ],
      "text/plain": [
       "   id_ves        date  id_region  id_fish  catch_volume  id_regime  permit  \\\n",
       "0    1628  2022-01-01        272      400        31.874         41    2824   \n",
       "1      70  2022-01-01        277      886         0.476          1    2414   \n",
       "2    1608  2022-01-01        116      409        26.310         15    3031   \n",
       "3     832  2022-01-01        272      292         9.541          1    1894   \n",
       "4     832  2022-01-01        272      113         0.062          1    1894   \n",
       "\n",
       "   id_own  \n",
       "0     961  \n",
       "1    1281  \n",
       "2    1227  \n",
       "3    1281  \n",
       "4    1281  "
      ]
     },
     "execution_count": 263,
     "metadata": {},
     "output_type": "execute_result"
    }
   ],
   "source": [
    "df_catch.head()"
   ]
  },
  {
   "cell_type": "markdown",
   "metadata": {},
   "source": [
    "Drop unused `permit`"
   ]
  },
  {
   "cell_type": "code",
   "execution_count": 273,
   "metadata": {},
   "outputs": [],
   "source": [
    "df_db1 = df_catch.drop(columns='permit')"
   ]
  },
  {
   "cell_type": "markdown",
   "metadata": {},
   "source": [
    "### Ext\n",
    "Check how many id_ves from df_catch contains in df_ext"
   ]
  },
  {
   "cell_type": "code",
   "execution_count": 262,
   "metadata": {},
   "outputs": [
    {
     "data": {
      "text/html": [
       "<div>\n",
       "<style scoped>\n",
       "    .dataframe tbody tr th:only-of-type {\n",
       "        vertical-align: middle;\n",
       "    }\n",
       "\n",
       "    .dataframe tbody tr th {\n",
       "        vertical-align: top;\n",
       "    }\n",
       "\n",
       "    .dataframe thead th {\n",
       "        text-align: right;\n",
       "    }\n",
       "</style>\n",
       "<table border=\"1\" class=\"dataframe\">\n",
       "  <thead>\n",
       "    <tr style=\"text-align: right;\">\n",
       "      <th></th>\n",
       "      <th>id_ves</th>\n",
       "      <th>id_own</th>\n",
       "      <th>date_fishery</th>\n",
       "      <th>id_Plat</th>\n",
       "      <th>id_vsd</th>\n",
       "      <th>Name_Plat</th>\n",
       "      <th>Product_period</th>\n",
       "      <th>Region_Plat</th>\n",
       "    </tr>\n",
       "  </thead>\n",
       "  <tbody>\n",
       "    <tr>\n",
       "      <th>44</th>\n",
       "      <td>1579</td>\n",
       "      <td>1195</td>\n",
       "      <td>2022-05-24 00:00:00</td>\n",
       "      <td>6289005</td>\n",
       "      <td>6672408</td>\n",
       "      <td>\\N</td>\n",
       "      <td>\\N</td>\n",
       "      <td>\\N</td>\n",
       "    </tr>\n",
       "    <tr>\n",
       "      <th>45</th>\n",
       "      <td>1579</td>\n",
       "      <td>1195</td>\n",
       "      <td>2022-05-24 00:00:00</td>\n",
       "      <td>6289005</td>\n",
       "      <td>8469633</td>\n",
       "      <td>\\N</td>\n",
       "      <td>\\N</td>\n",
       "      <td>\\N</td>\n",
       "    </tr>\n",
       "    <tr>\n",
       "      <th>46</th>\n",
       "      <td>1579</td>\n",
       "      <td>1195</td>\n",
       "      <td>2022-05-24 00:00:00</td>\n",
       "      <td>6289005</td>\n",
       "      <td>8605162</td>\n",
       "      <td>\\N</td>\n",
       "      <td>\\N</td>\n",
       "      <td>\\N</td>\n",
       "    </tr>\n",
       "    <tr>\n",
       "      <th>47</th>\n",
       "      <td>1579</td>\n",
       "      <td>1195</td>\n",
       "      <td>2022-05-24 00:00:00</td>\n",
       "      <td>6289005</td>\n",
       "      <td>7798565</td>\n",
       "      <td>\\N</td>\n",
       "      <td>\\N</td>\n",
       "      <td>\\N</td>\n",
       "    </tr>\n",
       "    <tr>\n",
       "      <th>48</th>\n",
       "      <td>1599</td>\n",
       "      <td>1195</td>\n",
       "      <td>2022-05-24 00:00:00</td>\n",
       "      <td>6290078</td>\n",
       "      <td>7952695</td>\n",
       "      <td>\\N</td>\n",
       "      <td>\\N</td>\n",
       "      <td>\\N</td>\n",
       "    </tr>\n",
       "    <tr>\n",
       "      <th>...</th>\n",
       "      <td>...</td>\n",
       "      <td>...</td>\n",
       "      <td>...</td>\n",
       "      <td>...</td>\n",
       "      <td>...</td>\n",
       "      <td>...</td>\n",
       "      <td>...</td>\n",
       "      <td>...</td>\n",
       "    </tr>\n",
       "    <tr>\n",
       "      <th>3260721</th>\n",
       "      <td>1636</td>\n",
       "      <td>1144</td>\n",
       "      <td>2020-12-31 00:00:00</td>\n",
       "      <td>6290871</td>\n",
       "      <td>7971576</td>\n",
       "      <td>\\N</td>\n",
       "      <td>\\N</td>\n",
       "      <td>\\N</td>\n",
       "    </tr>\n",
       "    <tr>\n",
       "      <th>3260730</th>\n",
       "      <td>1466</td>\n",
       "      <td>938</td>\n",
       "      <td>2020-12-31 00:00:00</td>\n",
       "      <td>6295910</td>\n",
       "      <td>8909315</td>\n",
       "      <td>\\N</td>\n",
       "      <td>\\N</td>\n",
       "      <td>\\N</td>\n",
       "    </tr>\n",
       "    <tr>\n",
       "      <th>3260731</th>\n",
       "      <td>1466</td>\n",
       "      <td>938</td>\n",
       "      <td>2020-12-31 00:00:00</td>\n",
       "      <td>6295910</td>\n",
       "      <td>8375262</td>\n",
       "      <td>\\N</td>\n",
       "      <td>\\N</td>\n",
       "      <td>\\N</td>\n",
       "    </tr>\n",
       "    <tr>\n",
       "      <th>3260742</th>\n",
       "      <td>1363</td>\n",
       "      <td>1011</td>\n",
       "      <td>2020-12-31 00:00:00</td>\n",
       "      <td>6292142</td>\n",
       "      <td>6553285</td>\n",
       "      <td>\\N</td>\n",
       "      <td>\\N</td>\n",
       "      <td>\\N</td>\n",
       "    </tr>\n",
       "    <tr>\n",
       "      <th>3260750</th>\n",
       "      <td>1636</td>\n",
       "      <td>1144</td>\n",
       "      <td>2020-12-31 00:00:00</td>\n",
       "      <td>6290871</td>\n",
       "      <td>7346834</td>\n",
       "      <td>\\N</td>\n",
       "      <td>\\N</td>\n",
       "      <td>\\N</td>\n",
       "    </tr>\n",
       "  </tbody>\n",
       "</table>\n",
       "<p>9744 rows × 8 columns</p>\n",
       "</div>"
      ],
      "text/plain": [
       "         id_ves  id_own         date_fishery  id_Plat   id_vsd Name_Plat  \\\n",
       "44         1579    1195  2022-05-24 00:00:00  6289005  6672408        \\N   \n",
       "45         1579    1195  2022-05-24 00:00:00  6289005  8469633        \\N   \n",
       "46         1579    1195  2022-05-24 00:00:00  6289005  8605162        \\N   \n",
       "47         1579    1195  2022-05-24 00:00:00  6289005  7798565        \\N   \n",
       "48         1599    1195  2022-05-24 00:00:00  6290078  7952695        \\N   \n",
       "...         ...     ...                  ...      ...      ...       ...   \n",
       "3260721    1636    1144  2020-12-31 00:00:00  6290871  7971576        \\N   \n",
       "3260730    1466     938  2020-12-31 00:00:00  6295910  8909315        \\N   \n",
       "3260731    1466     938  2020-12-31 00:00:00  6295910  8375262        \\N   \n",
       "3260742    1363    1011  2020-12-31 00:00:00  6292142  6553285        \\N   \n",
       "3260750    1636    1144  2020-12-31 00:00:00  6290871  7346834        \\N   \n",
       "\n",
       "        Product_period Region_Plat  \n",
       "44                  \\N          \\N  \n",
       "45                  \\N          \\N  \n",
       "46                  \\N          \\N  \n",
       "47                  \\N          \\N  \n",
       "48                  \\N          \\N  \n",
       "...                ...         ...  \n",
       "3260721             \\N          \\N  \n",
       "3260730             \\N          \\N  \n",
       "3260731             \\N          \\N  \n",
       "3260742             \\N          \\N  \n",
       "3260750             \\N          \\N  \n",
       "\n",
       "[9744 rows x 8 columns]"
      ]
     },
     "execution_count": 262,
     "metadata": {},
     "output_type": "execute_result"
    }
   ],
   "source": [
    "df_ext[~(df_ext['id_ves'].isin(df_catch['id_ves'].unique())) & (df_ext['id_ves']!=-1)]"
   ]
  },
  {
   "cell_type": "markdown",
   "metadata": {},
   "source": [
    "It's many. This why make different DBSCAN for `df_catch` only, `df_ext` only and compare `df_catch` and `df_ext`"
   ]
  },
  {
   "cell_type": "markdown",
   "metadata": {},
   "source": [
    "#### Remove duplicates"
   ]
  },
  {
   "cell_type": "code",
   "execution_count": 241,
   "metadata": {},
   "outputs": [
    {
     "data": {
      "text/html": [
       "<div>\n",
       "<style scoped>\n",
       "    .dataframe tbody tr th:only-of-type {\n",
       "        vertical-align: middle;\n",
       "    }\n",
       "\n",
       "    .dataframe tbody tr th {\n",
       "        vertical-align: top;\n",
       "    }\n",
       "\n",
       "    .dataframe thead th {\n",
       "        text-align: right;\n",
       "    }\n",
       "</style>\n",
       "<table border=\"1\" class=\"dataframe\">\n",
       "  <thead>\n",
       "    <tr style=\"text-align: right;\">\n",
       "      <th></th>\n",
       "      <th>id_ves</th>\n",
       "      <th>id_own</th>\n",
       "      <th>date_fishery</th>\n",
       "      <th>id_Plat</th>\n",
       "      <th>id_vsd</th>\n",
       "      <th>Name_Plat</th>\n",
       "      <th>Product_period</th>\n",
       "      <th>Region_Plat</th>\n",
       "    </tr>\n",
       "  </thead>\n",
       "  <tbody>\n",
       "    <tr>\n",
       "      <th>15313</th>\n",
       "      <td>-1</td>\n",
       "      <td>-1</td>\n",
       "      <td>2022-04-20 02:38:01</td>\n",
       "      <td>6294403</td>\n",
       "      <td>6834025</td>\n",
       "      <td>9518351</td>\n",
       "      <td>\\N</td>\n",
       "      <td>Камчатский край</td>\n",
       "    </tr>\n",
       "    <tr>\n",
       "      <th>15314</th>\n",
       "      <td>-1</td>\n",
       "      <td>-1</td>\n",
       "      <td>2022-04-20 02:38:01</td>\n",
       "      <td>6294403</td>\n",
       "      <td>8596508</td>\n",
       "      <td>9518351</td>\n",
       "      <td>\\N</td>\n",
       "      <td>Камчатский край</td>\n",
       "    </tr>\n",
       "    <tr>\n",
       "      <th>15315</th>\n",
       "      <td>-1</td>\n",
       "      <td>-1</td>\n",
       "      <td>2022-04-20 02:37:57</td>\n",
       "      <td>6295967</td>\n",
       "      <td>9079011</td>\n",
       "      <td>9516052</td>\n",
       "      <td>\\N</td>\n",
       "      <td>Приморский край</td>\n",
       "    </tr>\n",
       "    <tr>\n",
       "      <th>15316</th>\n",
       "      <td>-1</td>\n",
       "      <td>-1</td>\n",
       "      <td>2022-04-20 02:37:34</td>\n",
       "      <td>6295967</td>\n",
       "      <td>8489049</td>\n",
       "      <td>9516052</td>\n",
       "      <td>\\N</td>\n",
       "      <td>Приморский край</td>\n",
       "    </tr>\n",
       "    <tr>\n",
       "      <th>15317</th>\n",
       "      <td>-1</td>\n",
       "      <td>-1</td>\n",
       "      <td>2022-04-20 02:37:04</td>\n",
       "      <td>6295967</td>\n",
       "      <td>8183544</td>\n",
       "      <td>9516052</td>\n",
       "      <td>\\N</td>\n",
       "      <td>Приморский край</td>\n",
       "    </tr>\n",
       "    <tr>\n",
       "      <th>...</th>\n",
       "      <td>...</td>\n",
       "      <td>...</td>\n",
       "      <td>...</td>\n",
       "      <td>...</td>\n",
       "      <td>...</td>\n",
       "      <td>...</td>\n",
       "      <td>...</td>\n",
       "      <td>...</td>\n",
       "    </tr>\n",
       "    <tr>\n",
       "      <th>3112990</th>\n",
       "      <td>-1</td>\n",
       "      <td>-1</td>\n",
       "      <td>2022-01-02 00:02:35</td>\n",
       "      <td>6294690</td>\n",
       "      <td>7601012</td>\n",
       "      <td>9515018</td>\n",
       "      <td>2022-01-02 00:00:00</td>\n",
       "      <td>г. Москва</td>\n",
       "    </tr>\n",
       "    <tr>\n",
       "      <th>3112991</th>\n",
       "      <td>-1</td>\n",
       "      <td>-1</td>\n",
       "      <td>2022-01-02 00:02:35</td>\n",
       "      <td>6294690</td>\n",
       "      <td>8450974</td>\n",
       "      <td>9515018</td>\n",
       "      <td>2022-01-02 00:00:00</td>\n",
       "      <td>г. Москва</td>\n",
       "    </tr>\n",
       "    <tr>\n",
       "      <th>3112992</th>\n",
       "      <td>-1</td>\n",
       "      <td>-1</td>\n",
       "      <td>2022-01-02 00:02:35</td>\n",
       "      <td>6294690</td>\n",
       "      <td>6391908</td>\n",
       "      <td>9515018</td>\n",
       "      <td>2022-01-02 00:00:00</td>\n",
       "      <td>г. Москва</td>\n",
       "    </tr>\n",
       "    <tr>\n",
       "      <th>3112993</th>\n",
       "      <td>-1</td>\n",
       "      <td>-1</td>\n",
       "      <td>2022-01-02 00:02:19</td>\n",
       "      <td>6294190</td>\n",
       "      <td>7006117</td>\n",
       "      <td>9513603</td>\n",
       "      <td>2022-01-02 00:00:00</td>\n",
       "      <td>Республика Хакасия</td>\n",
       "    </tr>\n",
       "    <tr>\n",
       "      <th>3112994</th>\n",
       "      <td>-1</td>\n",
       "      <td>-1</td>\n",
       "      <td>2022-01-02 00:02:11</td>\n",
       "      <td>6296544</td>\n",
       "      <td>7490226</td>\n",
       "      <td>9515739</td>\n",
       "      <td>2022-01-01 00:00:00 - 2022-01-01 23:00:00</td>\n",
       "      <td>г. Москва</td>\n",
       "    </tr>\n",
       "  </tbody>\n",
       "</table>\n",
       "<p>3051426 rows × 8 columns</p>\n",
       "</div>"
      ],
      "text/plain": [
       "         id_ves  id_own         date_fishery  id_Plat   id_vsd Name_Plat  \\\n",
       "15313        -1      -1  2022-04-20 02:38:01  6294403  6834025   9518351   \n",
       "15314        -1      -1  2022-04-20 02:38:01  6294403  8596508   9518351   \n",
       "15315        -1      -1  2022-04-20 02:37:57  6295967  9079011   9516052   \n",
       "15316        -1      -1  2022-04-20 02:37:34  6295967  8489049   9516052   \n",
       "15317        -1      -1  2022-04-20 02:37:04  6295967  8183544   9516052   \n",
       "...         ...     ...                  ...      ...      ...       ...   \n",
       "3112990      -1      -1  2022-01-02 00:02:35  6294690  7601012   9515018   \n",
       "3112991      -1      -1  2022-01-02 00:02:35  6294690  8450974   9515018   \n",
       "3112992      -1      -1  2022-01-02 00:02:35  6294690  6391908   9515018   \n",
       "3112993      -1      -1  2022-01-02 00:02:19  6294190  7006117   9513603   \n",
       "3112994      -1      -1  2022-01-02 00:02:11  6296544  7490226   9515739   \n",
       "\n",
       "                                    Product_period         Region_Plat  \n",
       "15313                                           \\N     Камчатский край  \n",
       "15314                                           \\N     Камчатский край  \n",
       "15315                                           \\N     Приморский край  \n",
       "15316                                           \\N     Приморский край  \n",
       "15317                                           \\N     Приморский край  \n",
       "...                                            ...                 ...  \n",
       "3112990                        2022-01-02 00:00:00           г. Москва  \n",
       "3112991                        2022-01-02 00:00:00           г. Москва  \n",
       "3112992                        2022-01-02 00:00:00           г. Москва  \n",
       "3112993                        2022-01-02 00:00:00  Республика Хакасия  \n",
       "3112994  2022-01-01 00:00:00 - 2022-01-01 23:00:00           г. Москва  \n",
       "\n",
       "[3051426 rows x 8 columns]"
      ]
     },
     "execution_count": 241,
     "metadata": {},
     "output_type": "execute_result"
    }
   ],
   "source": [
    "df_ext[df_ext['id_ves']==-1]"
   ]
  },
  {
   "cell_type": "code",
   "execution_count": 168,
   "metadata": {},
   "outputs": [
    {
     "name": "stdout",
     "output_type": "stream",
     "text": [
      "<class 'pandas.core.frame.DataFrame'>\n",
      "RangeIndex: 3260798 entries, 0 to 3260797\n",
      "Data columns (total 9 columns):\n",
      " #   Column          Dtype \n",
      "---  ------          ----- \n",
      " 0   id_ves          int64 \n",
      " 1   id_own          int64 \n",
      " 2   date_fishery    object\n",
      " 3   numPart         object\n",
      " 4   id_Plat         int64 \n",
      " 5   id_vsd          int64 \n",
      " 6   Name_Plat       object\n",
      " 7   Product_period  object\n",
      " 8   Region_Plat     object\n",
      "dtypes: int64(4), object(5)\n",
      "memory usage: 223.9+ MB\n"
     ]
    }
   ],
   "source": [
    "df_ext.info()"
   ]
  },
  {
   "cell_type": "markdown",
   "metadata": {},
   "source": [
    "There just 4 unique values. Let's see them"
   ]
  },
  {
   "cell_type": "code",
   "execution_count": 170,
   "metadata": {},
   "outputs": [
    {
     "data": {
      "text/html": [
       "<div>\n",
       "<style scoped>\n",
       "    .dataframe tbody tr th:only-of-type {\n",
       "        vertical-align: middle;\n",
       "    }\n",
       "\n",
       "    .dataframe tbody tr th {\n",
       "        vertical-align: top;\n",
       "    }\n",
       "\n",
       "    .dataframe thead th {\n",
       "        text-align: right;\n",
       "    }\n",
       "</style>\n",
       "<table border=\"1\" class=\"dataframe\">\n",
       "  <thead>\n",
       "    <tr style=\"text-align: right;\">\n",
       "      <th></th>\n",
       "      <th>id_ves</th>\n",
       "      <th>id_own</th>\n",
       "      <th>date_fishery</th>\n",
       "      <th>numPart</th>\n",
       "      <th>id_Plat</th>\n",
       "      <th>id_vsd</th>\n",
       "      <th>Name_Plat</th>\n",
       "      <th>Product_period</th>\n",
       "      <th>Region_Plat</th>\n",
       "    </tr>\n",
       "  </thead>\n",
       "  <tbody>\n",
       "    <tr>\n",
       "      <th>3154783</th>\n",
       "      <td>1290</td>\n",
       "      <td>1156</td>\n",
       "      <td>2021-09-14 00:00:00</td>\n",
       "      <td>1</td>\n",
       "      <td>6296848</td>\n",
       "      <td>6760283</td>\n",
       "      <td>\\N</td>\n",
       "      <td>\\N</td>\n",
       "      <td>\\N</td>\n",
       "    </tr>\n",
       "    <tr>\n",
       "      <th>3154784</th>\n",
       "      <td>1290</td>\n",
       "      <td>1156</td>\n",
       "      <td>2021-09-14 00:00:00</td>\n",
       "      <td>1</td>\n",
       "      <td>6296848</td>\n",
       "      <td>8508555</td>\n",
       "      <td>\\N</td>\n",
       "      <td>\\N</td>\n",
       "      <td>\\N</td>\n",
       "    </tr>\n",
       "    <tr>\n",
       "      <th>3154785</th>\n",
       "      <td>1290</td>\n",
       "      <td>1156</td>\n",
       "      <td>2021-09-14 00:00:00</td>\n",
       "      <td>3</td>\n",
       "      <td>6296848</td>\n",
       "      <td>9447157</td>\n",
       "      <td>\\N</td>\n",
       "      <td>\\N</td>\n",
       "      <td>\\N</td>\n",
       "    </tr>\n",
       "    <tr>\n",
       "      <th>3154786</th>\n",
       "      <td>1290</td>\n",
       "      <td>1156</td>\n",
       "      <td>2021-09-14 00:00:00</td>\n",
       "      <td>2</td>\n",
       "      <td>6296848</td>\n",
       "      <td>7956670</td>\n",
       "      <td>\\N</td>\n",
       "      <td>\\N</td>\n",
       "      <td>\\N</td>\n",
       "    </tr>\n",
       "    <tr>\n",
       "      <th>3154787</th>\n",
       "      <td>1290</td>\n",
       "      <td>1156</td>\n",
       "      <td>2021-09-14 00:00:00</td>\n",
       "      <td>3</td>\n",
       "      <td>6296848</td>\n",
       "      <td>8746726</td>\n",
       "      <td>\\N</td>\n",
       "      <td>\\N</td>\n",
       "      <td>\\N</td>\n",
       "    </tr>\n",
       "    <tr>\n",
       "      <th>3154788</th>\n",
       "      <td>1322</td>\n",
       "      <td>1023</td>\n",
       "      <td>2021-09-14 00:00:00</td>\n",
       "      <td>3</td>\n",
       "      <td>6294344</td>\n",
       "      <td>6319541</td>\n",
       "      <td>\\N</td>\n",
       "      <td>\\N</td>\n",
       "      <td>\\N</td>\n",
       "    </tr>\n",
       "    <tr>\n",
       "      <th>3154789</th>\n",
       "      <td>1322</td>\n",
       "      <td>1023</td>\n",
       "      <td>2021-09-14 00:00:00</td>\n",
       "      <td>1</td>\n",
       "      <td>6294344</td>\n",
       "      <td>8957890</td>\n",
       "      <td>\\N</td>\n",
       "      <td>\\N</td>\n",
       "      <td>\\N</td>\n",
       "    </tr>\n",
       "    <tr>\n",
       "      <th>3154790</th>\n",
       "      <td>1322</td>\n",
       "      <td>1023</td>\n",
       "      <td>2021-09-14 00:00:00</td>\n",
       "      <td>3</td>\n",
       "      <td>6294344</td>\n",
       "      <td>9167480</td>\n",
       "      <td>\\N</td>\n",
       "      <td>\\N</td>\n",
       "      <td>\\N</td>\n",
       "    </tr>\n",
       "    <tr>\n",
       "      <th>3154791</th>\n",
       "      <td>1322</td>\n",
       "      <td>1023</td>\n",
       "      <td>2021-09-14 00:00:00</td>\n",
       "      <td>3</td>\n",
       "      <td>6294344</td>\n",
       "      <td>8054779</td>\n",
       "      <td>\\N</td>\n",
       "      <td>\\N</td>\n",
       "      <td>\\N</td>\n",
       "    </tr>\n",
       "    <tr>\n",
       "      <th>3154792</th>\n",
       "      <td>1322</td>\n",
       "      <td>1023</td>\n",
       "      <td>2021-09-14 00:00:00</td>\n",
       "      <td>2</td>\n",
       "      <td>6294344</td>\n",
       "      <td>9329734</td>\n",
       "      <td>\\N</td>\n",
       "      <td>\\N</td>\n",
       "      <td>\\N</td>\n",
       "    </tr>\n",
       "  </tbody>\n",
       "</table>\n",
       "</div>"
      ],
      "text/plain": [
       "         id_ves  id_own         date_fishery numPart  id_Plat   id_vsd  \\\n",
       "3154783    1290    1156  2021-09-14 00:00:00       1  6296848  6760283   \n",
       "3154784    1290    1156  2021-09-14 00:00:00       1  6296848  8508555   \n",
       "3154785    1290    1156  2021-09-14 00:00:00       3  6296848  9447157   \n",
       "3154786    1290    1156  2021-09-14 00:00:00       2  6296848  7956670   \n",
       "3154787    1290    1156  2021-09-14 00:00:00       3  6296848  8746726   \n",
       "3154788    1322    1023  2021-09-14 00:00:00       3  6294344  6319541   \n",
       "3154789    1322    1023  2021-09-14 00:00:00       1  6294344  8957890   \n",
       "3154790    1322    1023  2021-09-14 00:00:00       3  6294344  9167480   \n",
       "3154791    1322    1023  2021-09-14 00:00:00       3  6294344  8054779   \n",
       "3154792    1322    1023  2021-09-14 00:00:00       2  6294344  9329734   \n",
       "\n",
       "        Name_Plat Product_period Region_Plat  \n",
       "3154783        \\N             \\N          \\N  \n",
       "3154784        \\N             \\N          \\N  \n",
       "3154785        \\N             \\N          \\N  \n",
       "3154786        \\N             \\N          \\N  \n",
       "3154787        \\N             \\N          \\N  \n",
       "3154788        \\N             \\N          \\N  \n",
       "3154789        \\N             \\N          \\N  \n",
       "3154790        \\N             \\N          \\N  \n",
       "3154791        \\N             \\N          \\N  \n",
       "3154792        \\N             \\N          \\N  "
      ]
     },
     "execution_count": 170,
     "metadata": {},
     "output_type": "execute_result"
    }
   ],
   "source": [
    "df_ext[df_ext['numPart']!='\\\\N']"
   ]
  },
  {
   "cell_type": "markdown",
   "metadata": {},
   "source": [
    "Not intresting. Remove this feature."
   ]
  },
  {
   "cell_type": "code",
   "execution_count": 171,
   "metadata": {},
   "outputs": [
    {
     "data": {
      "text/html": [
       "<div>\n",
       "<style scoped>\n",
       "    .dataframe tbody tr th:only-of-type {\n",
       "        vertical-align: middle;\n",
       "    }\n",
       "\n",
       "    .dataframe tbody tr th {\n",
       "        vertical-align: top;\n",
       "    }\n",
       "\n",
       "    .dataframe thead th {\n",
       "        text-align: right;\n",
       "    }\n",
       "</style>\n",
       "<table border=\"1\" class=\"dataframe\">\n",
       "  <thead>\n",
       "    <tr style=\"text-align: right;\">\n",
       "      <th></th>\n",
       "      <th>id_ves</th>\n",
       "      <th>id_own</th>\n",
       "      <th>date_fishery</th>\n",
       "      <th>id_Plat</th>\n",
       "      <th>id_vsd</th>\n",
       "      <th>Name_Plat</th>\n",
       "      <th>Product_period</th>\n",
       "      <th>Region_Plat</th>\n",
       "    </tr>\n",
       "  </thead>\n",
       "  <tbody>\n",
       "    <tr>\n",
       "      <th>54815</th>\n",
       "      <td>1620</td>\n",
       "      <td>996</td>\n",
       "      <td>2022-04-19 00:00:00</td>\n",
       "      <td>6290172</td>\n",
       "      <td>6748647</td>\n",
       "      <td>\\N</td>\n",
       "      <td>\\N</td>\n",
       "      <td>\\N</td>\n",
       "    </tr>\n",
       "    <tr>\n",
       "      <th>54816</th>\n",
       "      <td>1657</td>\n",
       "      <td>1175</td>\n",
       "      <td>2022-04-19 00:00:00</td>\n",
       "      <td>6292428</td>\n",
       "      <td>6753918</td>\n",
       "      <td>\\N</td>\n",
       "      <td>\\N</td>\n",
       "      <td>\\N</td>\n",
       "    </tr>\n",
       "    <tr>\n",
       "      <th>54817</th>\n",
       "      <td>1531</td>\n",
       "      <td>1011</td>\n",
       "      <td>2022-04-19 00:00:00</td>\n",
       "      <td>6293278</td>\n",
       "      <td>8559213</td>\n",
       "      <td>\\N</td>\n",
       "      <td>\\N</td>\n",
       "      <td>\\N</td>\n",
       "    </tr>\n",
       "  </tbody>\n",
       "</table>\n",
       "</div>"
      ],
      "text/plain": [
       "       id_ves  id_own         date_fishery  id_Plat   id_vsd Name_Plat  \\\n",
       "54815    1620     996  2022-04-19 00:00:00  6290172  6748647        \\N   \n",
       "54816    1657    1175  2022-04-19 00:00:00  6292428  6753918        \\N   \n",
       "54817    1531    1011  2022-04-19 00:00:00  6293278  8559213        \\N   \n",
       "\n",
       "      Product_period Region_Plat  \n",
       "54815             \\N          \\N  \n",
       "54816             \\N          \\N  \n",
       "54817             \\N          \\N  "
      ]
     },
     "execution_count": 171,
     "metadata": {},
     "output_type": "execute_result"
    }
   ],
   "source": [
    "df_ext.drop(columns=['numPart'], inplace=True)\n",
    "df_ext[df_ext['id_vsd'].duplicated()].head(3)"
   ]
  },
  {
   "cell_type": "code",
   "execution_count": 172,
   "metadata": {},
   "outputs": [
    {
     "data": {
      "text/plain": [
       "'45854 record is duplicated'"
      ]
     },
     "execution_count": 172,
     "metadata": {},
     "output_type": "execute_result"
    }
   ],
   "source": [
    "def count_duplicated(df,id):\n",
    "    return len(df[df[id].duplicated()])\n",
    "\n",
    "'%s record is duplicated' % count_duplicated(df_ext,'id_vsd')"
   ]
  },
  {
   "cell_type": "markdown",
   "metadata": {},
   "source": [
    "We see duplicated values, check what is duplicated records"
   ]
  },
  {
   "cell_type": "code",
   "execution_count": 173,
   "metadata": {},
   "outputs": [
    {
     "data": {
      "text/html": [
       "<div>\n",
       "<style scoped>\n",
       "    .dataframe tbody tr th:only-of-type {\n",
       "        vertical-align: middle;\n",
       "    }\n",
       "\n",
       "    .dataframe tbody tr th {\n",
       "        vertical-align: top;\n",
       "    }\n",
       "\n",
       "    .dataframe thead th {\n",
       "        text-align: right;\n",
       "    }\n",
       "</style>\n",
       "<table border=\"1\" class=\"dataframe\">\n",
       "  <thead>\n",
       "    <tr style=\"text-align: right;\">\n",
       "      <th></th>\n",
       "      <th>id_ves</th>\n",
       "      <th>id_own</th>\n",
       "      <th>date_fishery</th>\n",
       "      <th>id_Plat</th>\n",
       "      <th>id_vsd</th>\n",
       "      <th>Name_Plat</th>\n",
       "      <th>Product_period</th>\n",
       "      <th>Region_Plat</th>\n",
       "    </tr>\n",
       "  </thead>\n",
       "  <tbody>\n",
       "    <tr>\n",
       "      <th>1312329</th>\n",
       "      <td>-1</td>\n",
       "      <td>-1</td>\n",
       "      <td>2022-03-07 03:44:45</td>\n",
       "      <td>6289288</td>\n",
       "      <td>9232550</td>\n",
       "      <td>9514518</td>\n",
       "      <td>2022-03-01 00:00:00</td>\n",
       "      <td>Красноярский край</td>\n",
       "    </tr>\n",
       "  </tbody>\n",
       "</table>\n",
       "</div>"
      ],
      "text/plain": [
       "         id_ves  id_own         date_fishery  id_Plat   id_vsd Name_Plat  \\\n",
       "1312329      -1      -1  2022-03-07 03:44:45  6289288  9232550   9514518   \n",
       "\n",
       "              Product_period        Region_Plat  \n",
       "1312329  2022-03-01 00:00:00  Красноярский край  "
      ]
     },
     "execution_count": 173,
     "metadata": {},
     "output_type": "execute_result"
    }
   ],
   "source": [
    "df_ext[df_ext['id_vsd']==9232550]"
   ]
  },
  {
   "cell_type": "markdown",
   "metadata": {},
   "source": [
    "We see that it is same records but with more information. Try remerge same records in one."
   ]
  },
  {
   "cell_type": "code",
   "execution_count": 174,
   "metadata": {},
   "outputs": [],
   "source": [
    "df_ext_descr = df_ext[(df_ext['Name_Plat'] != '\\\\N') | (df_ext['Product_period'] != '\\\\N') | (df_ext['Region_Plat'] != '\\\\N')]"
   ]
  },
  {
   "cell_type": "markdown",
   "metadata": {},
   "source": [
    "Check that in description table not duplicated values"
   ]
  },
  {
   "cell_type": "code",
   "execution_count": 175,
   "metadata": {},
   "outputs": [
    {
     "name": "stdout",
     "output_type": "stream",
     "text": [
      "In decription table 0 records is duplicated\n"
     ]
    }
   ],
   "source": [
    "print('In decription table %s records is duplicated' % count_duplicated(df_ext_descr,'id_vsd'))"
   ]
  },
  {
   "cell_type": "code",
   "execution_count": 176,
   "metadata": {},
   "outputs": [
    {
     "data": {
      "text/plain": [
       "'Unique 3214944 ids'"
      ]
     },
     "execution_count": 176,
     "metadata": {},
     "output_type": "execute_result"
    }
   ],
   "source": [
    "'Unique %s ids' % len(df_ext['id_vsd'].unique())"
   ]
  },
  {
   "cell_type": "markdown",
   "metadata": {},
   "source": [
    "Merge tables"
   ]
  },
  {
   "cell_type": "code",
   "execution_count": 177,
   "metadata": {},
   "outputs": [],
   "source": [
    "df_ext_wo_data=df_ext.drop(df_ext_descr.index)"
   ]
  },
  {
   "cell_type": "code",
   "execution_count": 178,
   "metadata": {},
   "outputs": [
    {
     "data": {
      "text/plain": [
       "3214944"
      ]
     },
     "execution_count": 178,
     "metadata": {},
     "output_type": "execute_result"
    }
   ],
   "source": [
    "df_ext_merged = pd.merge(\n",
    "    pd.DataFrame(df_ext['id_vsd'].unique(), columns=['id_vsd']),\n",
    "    df_ext_wo_data[['id_vsd','id_own','id_ves','date_fishery','id_Plat']],\n",
    "    on='id_vsd',\n",
    "    how=\"left\"\n",
    ")\n",
    "len(df_ext_merged)"
   ]
  },
  {
   "cell_type": "code",
   "execution_count": 179,
   "metadata": {},
   "outputs": [
    {
     "data": {
      "text/plain": [
       "3214944"
      ]
     },
     "execution_count": 179,
     "metadata": {},
     "output_type": "execute_result"
    }
   ],
   "source": [
    "df_ext_merged = pd.merge(\n",
    "    df_ext_merged,\n",
    "    df_ext_descr[['id_vsd','date_fishery','Name_Plat','Product_period','Region_Plat']],\n",
    "    on='id_vsd',\n",
    "    how=\"left\"\n",
    ")\n",
    "len(df_ext_merged)"
   ]
  },
  {
   "cell_type": "markdown",
   "metadata": {},
   "source": [
    "Fill `date_fishery` from describted table"
   ]
  },
  {
   "cell_type": "code",
   "execution_count": 180,
   "metadata": {},
   "outputs": [
    {
     "data": {
      "text/plain": [
       "3214944"
      ]
     },
     "execution_count": 180,
     "metadata": {},
     "output_type": "execute_result"
    }
   ],
   "source": [
    "df_ext_merged.loc[~df_ext_merged['date_fishery_y'].isna(),'date_fishery_x']=df_ext_merged['date_fishery_y']\n",
    "df_ext_merged.drop(columns='date_fishery_y',inplace=True)\n",
    "len(df_ext_merged)"
   ]
  },
  {
   "cell_type": "markdown",
   "metadata": {},
   "source": [
    "Same work with df_ext2"
   ]
  },
  {
   "cell_type": "code",
   "execution_count": 181,
   "metadata": {},
   "outputs": [
    {
     "data": {
      "text/html": [
       "<div>\n",
       "<style scoped>\n",
       "    .dataframe tbody tr th:only-of-type {\n",
       "        vertical-align: middle;\n",
       "    }\n",
       "\n",
       "    .dataframe tbody tr th {\n",
       "        vertical-align: top;\n",
       "    }\n",
       "\n",
       "    .dataframe thead th {\n",
       "        text-align: right;\n",
       "    }\n",
       "</style>\n",
       "<table border=\"1\" class=\"dataframe\">\n",
       "  <thead>\n",
       "    <tr style=\"text-align: right;\">\n",
       "      <th></th>\n",
       "      <th>id_vsd</th>\n",
       "      <th>num_vsd</th>\n",
       "      <th>id_fish</th>\n",
       "      <th>fish</th>\n",
       "      <th>date_vsd</th>\n",
       "      <th>volume</th>\n",
       "      <th>unit</th>\n",
       "    </tr>\n",
       "  </thead>\n",
       "  <tbody>\n",
       "    <tr>\n",
       "      <th>556258</th>\n",
       "      <td>6334548</td>\n",
       "      <td>5445449</td>\n",
       "      <td>-1</td>\n",
       "      <td>пикша свежая</td>\n",
       "      <td>2022-03-21 02:54:35</td>\n",
       "      <td>3</td>\n",
       "      <td>тонна</td>\n",
       "    </tr>\n",
       "    <tr>\n",
       "      <th>556259</th>\n",
       "      <td>6306527</td>\n",
       "      <td>5662445</td>\n",
       "      <td>-1</td>\n",
       "      <td>треска</td>\n",
       "      <td>2022-03-21 02:54:34</td>\n",
       "      <td>1</td>\n",
       "      <td>тонна</td>\n",
       "    </tr>\n",
       "    <tr>\n",
       "      <th>556260</th>\n",
       "      <td>7080120</td>\n",
       "      <td>5559522</td>\n",
       "      <td>-1</td>\n",
       "      <td>окунь-клювач</td>\n",
       "      <td>2022-03-21 02:54:33</td>\n",
       "      <td>0</td>\n",
       "      <td>тонна</td>\n",
       "    </tr>\n",
       "  </tbody>\n",
       "</table>\n",
       "</div>"
      ],
      "text/plain": [
       "         id_vsd  num_vsd  id_fish          fish             date_vsd  volume  \\\n",
       "556258  6334548  5445449       -1  пикша свежая  2022-03-21 02:54:35       3   \n",
       "556259  6306527  5662445       -1        треска  2022-03-21 02:54:34       1   \n",
       "556260  7080120  5559522       -1  окунь-клювач  2022-03-21 02:54:33       0   \n",
       "\n",
       "         unit  \n",
       "556258  тонна  \n",
       "556259  тонна  \n",
       "556260  тонна  "
      ]
     },
     "execution_count": 181,
     "metadata": {},
     "output_type": "execute_result"
    }
   ],
   "source": [
    "df_ext2[df_ext2['id_vsd'].duplicated()].head(3)"
   ]
  },
  {
   "cell_type": "code",
   "execution_count": 182,
   "metadata": {},
   "outputs": [
    {
     "data": {
      "text/plain": [
       "'45854 record is duplicated'"
      ]
     },
     "execution_count": 182,
     "metadata": {},
     "output_type": "execute_result"
    }
   ],
   "source": [
    "'%s record is duplicated' % count_duplicated(df_ext2,'id_vsd')"
   ]
  },
  {
   "cell_type": "code",
   "execution_count": 183,
   "metadata": {},
   "outputs": [
    {
     "data": {
      "text/html": [
       "<div>\n",
       "<style scoped>\n",
       "    .dataframe tbody tr th:only-of-type {\n",
       "        vertical-align: middle;\n",
       "    }\n",
       "\n",
       "    .dataframe tbody tr th {\n",
       "        vertical-align: top;\n",
       "    }\n",
       "\n",
       "    .dataframe thead th {\n",
       "        text-align: right;\n",
       "    }\n",
       "</style>\n",
       "<table border=\"1\" class=\"dataframe\">\n",
       "  <thead>\n",
       "    <tr style=\"text-align: right;\">\n",
       "      <th></th>\n",
       "      <th>id_vsd</th>\n",
       "      <th>num_vsd</th>\n",
       "      <th>id_fish</th>\n",
       "      <th>fish</th>\n",
       "      <th>date_vsd</th>\n",
       "      <th>volume</th>\n",
       "      <th>unit</th>\n",
       "    </tr>\n",
       "  </thead>\n",
       "  <tbody>\n",
       "  </tbody>\n",
       "</table>\n",
       "</div>"
      ],
      "text/plain": [
       "Empty DataFrame\n",
       "Columns: [id_vsd, num_vsd, id_fish, fish, date_vsd, volume, unit]\n",
       "Index: []"
      ]
     },
     "execution_count": 183,
     "metadata": {},
     "output_type": "execute_result"
    }
   ],
   "source": [
    "df_ext2[df_ext2['id_vsd']==5544870]"
   ]
  },
  {
   "cell_type": "markdown",
   "metadata": {},
   "source": [
    "Seems that in duplicated records contains round values. We get more descridable records"
   ]
  },
  {
   "cell_type": "code",
   "execution_count": 184,
   "metadata": {},
   "outputs": [
    {
     "data": {
      "text/plain": [
       "'Unique 3069426 ids'"
      ]
     },
     "execution_count": 184,
     "metadata": {},
     "output_type": "execute_result"
    }
   ],
   "source": [
    "'Unique %s ids' % len(df_ext2['id_vsd'].unique())"
   ]
  },
  {
   "cell_type": "code",
   "execution_count": 185,
   "metadata": {},
   "outputs": [
    {
     "name": "stdout",
     "output_type": "stream",
     "text": [
      "In table with fish_id 0 records is duplicated\n",
      "In table without fish_id 0 records is duplicated\n"
     ]
    }
   ],
   "source": [
    "df_ext2_w_fish_id = df_ext2[df_ext2['id_fish']!=-1]\n",
    "print('In table with fish_id %s records is duplicated' % count_duplicated(df_ext2_w_fish_id,'id_vsd'))\n",
    "df_ext2_wo_fish_id = df_ext2.drop(df_ext2_w_fish_id.index)\n",
    "print('In table without fish_id %s records is duplicated' % count_duplicated(df_ext2_w_fish_id,'id_vsd'))"
   ]
  },
  {
   "cell_type": "code",
   "execution_count": 186,
   "metadata": {},
   "outputs": [
    {
     "data": {
      "text/html": [
       "<div>\n",
       "<style scoped>\n",
       "    .dataframe tbody tr th:only-of-type {\n",
       "        vertical-align: middle;\n",
       "    }\n",
       "\n",
       "    .dataframe tbody tr th {\n",
       "        vertical-align: top;\n",
       "    }\n",
       "\n",
       "    .dataframe thead th {\n",
       "        text-align: right;\n",
       "    }\n",
       "</style>\n",
       "<table border=\"1\" class=\"dataframe\">\n",
       "  <thead>\n",
       "    <tr style=\"text-align: right;\">\n",
       "      <th></th>\n",
       "      <th>id_vsd</th>\n",
       "      <th>num_vsd</th>\n",
       "      <th>id_fish</th>\n",
       "      <th>fish</th>\n",
       "      <th>date_vsd</th>\n",
       "      <th>volume</th>\n",
       "      <th>unit</th>\n",
       "    </tr>\n",
       "  </thead>\n",
       "  <tbody>\n",
       "    <tr>\n",
       "      <th>39891</th>\n",
       "      <td>8753597</td>\n",
       "      <td>3981889</td>\n",
       "      <td>-1</td>\n",
       "      <td>скумбрия холодного копчения</td>\n",
       "      <td>2022-01-14 09:25:25</td>\n",
       "      <td>250</td>\n",
       "      <td>кг</td>\n",
       "    </tr>\n",
       "    <tr>\n",
       "      <th>39892</th>\n",
       "      <td>9199246</td>\n",
       "      <td>4568206</td>\n",
       "      <td>-1</td>\n",
       "      <td>икра сельди соленая</td>\n",
       "      <td>2022-01-04 05:16:29</td>\n",
       "      <td>3</td>\n",
       "      <td>кг</td>\n",
       "    </tr>\n",
       "    <tr>\n",
       "      <th>39893</th>\n",
       "      <td>8394699</td>\n",
       "      <td>5849836</td>\n",
       "      <td>-1</td>\n",
       "      <td>готовые блюда из рыбы</td>\n",
       "      <td>2022-02-03 15:43:10</td>\n",
       "      <td>2</td>\n",
       "      <td>кг</td>\n",
       "    </tr>\n",
       "    <tr>\n",
       "      <th>39894</th>\n",
       "      <td>8375000</td>\n",
       "      <td>6074372</td>\n",
       "      <td>-1</td>\n",
       "      <td>путассу солено-сушеная</td>\n",
       "      <td>2022-03-21 08:49:01</td>\n",
       "      <td>174</td>\n",
       "      <td>кг</td>\n",
       "    </tr>\n",
       "    <tr>\n",
       "      <th>39895</th>\n",
       "      <td>9307607</td>\n",
       "      <td>3322017</td>\n",
       "      <td>-1</td>\n",
       "      <td>путассу вяленая</td>\n",
       "      <td>2022-03-21 06:22:35</td>\n",
       "      <td>50</td>\n",
       "      <td>кг</td>\n",
       "    </tr>\n",
       "  </tbody>\n",
       "</table>\n",
       "</div>"
      ],
      "text/plain": [
       "        id_vsd  num_vsd  id_fish                         fish  \\\n",
       "39891  8753597  3981889       -1  скумбрия холодного копчения   \n",
       "39892  9199246  4568206       -1          икра сельди соленая   \n",
       "39893  8394699  5849836       -1        готовые блюда из рыбы   \n",
       "39894  8375000  6074372       -1       путассу солено-сушеная   \n",
       "39895  9307607  3322017       -1              путассу вяленая   \n",
       "\n",
       "                  date_vsd  volume unit  \n",
       "39891  2022-01-14 09:25:25     250   кг  \n",
       "39892  2022-01-04 05:16:29       3   кг  \n",
       "39893  2022-02-03 15:43:10       2   кг  \n",
       "39894  2022-03-21 08:49:01     174   кг  \n",
       "39895  2022-03-21 06:22:35      50   кг  "
      ]
     },
     "execution_count": 186,
     "metadata": {},
     "output_type": "execute_result"
    }
   ],
   "source": [
    "df_ext2_wo_fish_id.head()"
   ]
  },
  {
   "cell_type": "code",
   "execution_count": 187,
   "metadata": {},
   "outputs": [
    {
     "data": {
      "text/plain": [
       "3069426"
      ]
     },
     "execution_count": 187,
     "metadata": {},
     "output_type": "execute_result"
    }
   ],
   "source": [
    "df_ext2_merged = pd.merge(\n",
    "    pd.DataFrame(df_ext2['id_vsd'].unique(), columns=['id_vsd']),\n",
    "    df_ext2_w_fish_id[['id_vsd','id_fish','fish','volume','unit','date_vsd']],\n",
    "    on='id_vsd',\n",
    "    how=\"left\"\n",
    ")\n",
    "len(df_ext2_merged)"
   ]
  },
  {
   "cell_type": "code",
   "execution_count": 188,
   "metadata": {},
   "outputs": [
    {
     "data": {
      "text/plain": [
       "3069426"
      ]
     },
     "execution_count": 188,
     "metadata": {},
     "output_type": "execute_result"
    }
   ],
   "source": [
    "df_ext2_merged = pd.merge(\n",
    "    df_ext2_merged,\n",
    "    df_ext2_wo_fish_id[['id_vsd','fish','date_vsd','volume','unit']],\n",
    "    on='id_vsd',\n",
    "    how=\"left\"\n",
    ")\n",
    "len(df_ext2_merged)"
   ]
  },
  {
   "cell_type": "code",
   "execution_count": 189,
   "metadata": {},
   "outputs": [
    {
     "name": "stdout",
     "output_type": "stream",
     "text": [
      "In table without fish_id 0 records is duplicated\n"
     ]
    }
   ],
   "source": [
    "print('In table without fish_id %s records is duplicated' % count_duplicated(df_ext2_w_fish_id,'id_vsd'))"
   ]
  },
  {
   "cell_type": "code",
   "execution_count": 190,
   "metadata": {},
   "outputs": [
    {
     "data": {
      "text/html": [
       "<div>\n",
       "<style scoped>\n",
       "    .dataframe tbody tr th:only-of-type {\n",
       "        vertical-align: middle;\n",
       "    }\n",
       "\n",
       "    .dataframe tbody tr th {\n",
       "        vertical-align: top;\n",
       "    }\n",
       "\n",
       "    .dataframe thead th {\n",
       "        text-align: right;\n",
       "    }\n",
       "</style>\n",
       "<table border=\"1\" class=\"dataframe\">\n",
       "  <thead>\n",
       "    <tr style=\"text-align: right;\">\n",
       "      <th></th>\n",
       "      <th>id_vsd</th>\n",
       "      <th>id_fish</th>\n",
       "      <th>fish_x</th>\n",
       "      <th>volume_x</th>\n",
       "      <th>unit_x</th>\n",
       "      <th>date_vsd_x</th>\n",
       "      <th>fish_y</th>\n",
       "      <th>date_vsd_y</th>\n",
       "      <th>volume_y</th>\n",
       "      <th>unit_y</th>\n",
       "    </tr>\n",
       "  </thead>\n",
       "  <tbody>\n",
       "    <tr>\n",
       "      <th>0</th>\n",
       "      <td>7820377</td>\n",
       "      <td>400.0</td>\n",
       "      <td>минтай</td>\n",
       "      <td>75480.0</td>\n",
       "      <td>\\N</td>\n",
       "      <td>2022-01-01 00:39:56</td>\n",
       "      <td>NaN</td>\n",
       "      <td>NaN</td>\n",
       "      <td>NaN</td>\n",
       "      <td>NaN</td>\n",
       "    </tr>\n",
       "    <tr>\n",
       "      <th>1</th>\n",
       "      <td>9397385</td>\n",
       "      <td>400.0</td>\n",
       "      <td>минтай</td>\n",
       "      <td>62586.0</td>\n",
       "      <td>\\N</td>\n",
       "      <td>2022-01-01 01:34:08</td>\n",
       "      <td>NaN</td>\n",
       "      <td>NaN</td>\n",
       "      <td>NaN</td>\n",
       "      <td>NaN</td>\n",
       "    </tr>\n",
       "    <tr>\n",
       "      <th>2</th>\n",
       "      <td>8666689</td>\n",
       "      <td>292.0</td>\n",
       "      <td>треска</td>\n",
       "      <td>1155.0</td>\n",
       "      <td>\\N</td>\n",
       "      <td>2022-01-01 01:34:11</td>\n",
       "      <td>NaN</td>\n",
       "      <td>NaN</td>\n",
       "      <td>NaN</td>\n",
       "      <td>NaN</td>\n",
       "    </tr>\n",
       "  </tbody>\n",
       "</table>\n",
       "</div>"
      ],
      "text/plain": [
       "    id_vsd  id_fish  fish_x  volume_x unit_x           date_vsd_x fish_y  \\\n",
       "0  7820377    400.0  минтай   75480.0     \\N  2022-01-01 00:39:56    NaN   \n",
       "1  9397385    400.0  минтай   62586.0     \\N  2022-01-01 01:34:08    NaN   \n",
       "2  8666689    292.0  треска    1155.0     \\N  2022-01-01 01:34:11    NaN   \n",
       "\n",
       "  date_vsd_y  volume_y unit_y  \n",
       "0        NaN       NaN    NaN  \n",
       "1        NaN       NaN    NaN  \n",
       "2        NaN       NaN    NaN  "
      ]
     },
     "execution_count": 190,
     "metadata": {},
     "output_type": "execute_result"
    }
   ],
   "source": [
    "df_ext2_merged[~(df_ext2_merged['volume_x'].isna())].head(3)"
   ]
  },
  {
   "cell_type": "markdown",
   "metadata": {},
   "source": [
    "Fill na from describe dataset, drop unneccesary columns and fillna -1"
   ]
  },
  {
   "cell_type": "code",
   "execution_count": 191,
   "metadata": {},
   "outputs": [
    {
     "data": {
      "text/plain": [
       "3069426"
      ]
     },
     "execution_count": 191,
     "metadata": {},
     "output_type": "execute_result"
    }
   ],
   "source": [
    "if_fish_na = df_ext2_merged['id_fish'].isna()\n",
    "df_ext2_merged.loc[if_fish_na,'fish_x']=df_ext2_merged['fish_y']\n",
    "df_ext2_merged.loc[if_fish_na,'volume_x']=df_ext2_merged['volume_y']\n",
    "df_ext2_merged.loc[if_fish_na,'unit_x']=df_ext2_merged['unit_y']\n",
    "df_ext2_merged.loc[if_fish_na,'date_vsd_x']=df_ext2_merged['date_vsd_y']\n",
    "df_ext2_merged=df_ext2_merged.drop(columns=['fish_y','volume_y','unit_y','date_vsd_y'])\n",
    "len(df_ext2_merged)"
   ]
  },
  {
   "cell_type": "markdown",
   "metadata": {},
   "source": [
    "Now try normalize fish and volume"
   ]
  },
  {
   "cell_type": "code",
   "execution_count": 192,
   "metadata": {},
   "outputs": [
    {
     "data": {
      "text/plain": [
       "array(['\\\\N', 'кг', 'тонна'], dtype=object)"
      ]
     },
     "execution_count": 192,
     "metadata": {},
     "output_type": "execute_result"
    }
   ],
   "source": [
    "df_ext2_merged['unit_x'].unique()"
   ]
  },
  {
   "cell_type": "code",
   "execution_count": 193,
   "metadata": {},
   "outputs": [],
   "source": [
    "df_ext2_merged.loc[df_ext2_merged['unit_x']=='\\\\N','volume_x']/=1000\n",
    "df_ext2_merged.loc[df_ext2_merged['unit_x']=='кг','volume_x']/=1000"
   ]
  },
  {
   "cell_type": "code",
   "execution_count": 194,
   "metadata": {},
   "outputs": [],
   "source": [
    "fish_class = df_ext2_merged[df_ext2_merged['id_fish']>=0][['id_fish','fish_x']].drop_duplicates()\n",
    "df_ext2_merged=pd.merge(\n",
    "    df_ext2_merged,\n",
    "    fish_class,\n",
    "    on='fish_x',\n",
    "    how='left'\n",
    ")\n",
    "df_ext2_merged.loc[df_ext2_merged['id_fish_x'].isna(),'id_fish_x']=df_ext2_merged['id_fish_y']\n",
    "df_ext2_merged.drop(columns='id_fish_y', inplace=True)"
   ]
  },
  {
   "cell_type": "code",
   "execution_count": 195,
   "metadata": {},
   "outputs": [],
   "source": [
    "top_fish=df_ext2_merged.groupby('fish_x').sum().sort_values('volume_x', ascending=False)"
   ]
  },
  {
   "cell_type": "markdown",
   "metadata": {},
   "source": [
    "Remove records with zero volume"
   ]
  },
  {
   "cell_type": "code",
   "execution_count": 196,
   "metadata": {},
   "outputs": [],
   "source": [
    "df_ext2_merged=df_ext2_merged[~(df_ext2_merged['fish_x'].isin(top_fish[top_fish['volume_x']==0].index))]"
   ]
  },
  {
   "cell_type": "code",
   "execution_count": 197,
   "metadata": {},
   "outputs": [
    {
     "data": {
      "text/html": [
       "<div>\n",
       "<style scoped>\n",
       "    .dataframe tbody tr th:only-of-type {\n",
       "        vertical-align: middle;\n",
       "    }\n",
       "\n",
       "    .dataframe tbody tr th {\n",
       "        vertical-align: top;\n",
       "    }\n",
       "\n",
       "    .dataframe thead th {\n",
       "        text-align: right;\n",
       "    }\n",
       "</style>\n",
       "<table border=\"1\" class=\"dataframe\">\n",
       "  <thead>\n",
       "    <tr style=\"text-align: right;\">\n",
       "      <th></th>\n",
       "      <th>id_vsd</th>\n",
       "      <th>id_fish_x</th>\n",
       "      <th>volume_x</th>\n",
       "    </tr>\n",
       "    <tr>\n",
       "      <th>fish_x</th>\n",
       "      <th></th>\n",
       "      <th></th>\n",
       "      <th></th>\n",
       "    </tr>\n",
       "  </thead>\n",
       "  <tbody>\n",
       "    <tr>\n",
       "      <th>минтай</th>\n",
       "      <td>442513491360</td>\n",
       "      <td>22391600.0</td>\n",
       "      <td>985755865.0</td>\n",
       "    </tr>\n",
       "    <tr>\n",
       "      <th>треска</th>\n",
       "      <td>464203028150</td>\n",
       "      <td>13024022.0</td>\n",
       "      <td>449742126.0</td>\n",
       "    </tr>\n",
       "    <tr>\n",
       "      <th>минтай б/г мороженый</th>\n",
       "      <td>62593218774</td>\n",
       "      <td>0.0</td>\n",
       "      <td>281485109.0</td>\n",
       "    </tr>\n",
       "    <tr>\n",
       "      <th>сельдь тихоокеанская</th>\n",
       "      <td>11995594961</td>\n",
       "      <td>308856.0</td>\n",
       "      <td>179568763.0</td>\n",
       "    </tr>\n",
       "    <tr>\n",
       "      <th>сельдь тихоокеанская н/р мороженая</th>\n",
       "      <td>9425736835</td>\n",
       "      <td>0.0</td>\n",
       "      <td>157704270.0</td>\n",
       "    </tr>\n",
       "    <tr>\n",
       "      <th>путассу (северная)</th>\n",
       "      <td>4787364269</td>\n",
       "      <td>246627.0</td>\n",
       "      <td>85655049.0</td>\n",
       "    </tr>\n",
       "    <tr>\n",
       "      <th>филе минтая мороженое</th>\n",
       "      <td>72158586141</td>\n",
       "      <td>0.0</td>\n",
       "      <td>85229755.0</td>\n",
       "    </tr>\n",
       "    <tr>\n",
       "      <th>пикша мороженая</th>\n",
       "      <td>5332610003</td>\n",
       "      <td>0.0</td>\n",
       "      <td>52233340.0</td>\n",
       "    </tr>\n",
       "    <tr>\n",
       "      <th>минтай н/р мороженый</th>\n",
       "      <td>8716334919</td>\n",
       "      <td>0.0</td>\n",
       "      <td>50878872.0</td>\n",
       "    </tr>\n",
       "    <tr>\n",
       "      <th>минтай мороженый</th>\n",
       "      <td>28132399985</td>\n",
       "      <td>0.0</td>\n",
       "      <td>48889204.0</td>\n",
       "    </tr>\n",
       "  </tbody>\n",
       "</table>\n",
       "</div>"
      ],
      "text/plain": [
       "                                          id_vsd   id_fish_x     volume_x\n",
       "fish_x                                                                   \n",
       "минтай                              442513491360  22391600.0  985755865.0\n",
       "треска                              464203028150  13024022.0  449742126.0\n",
       "минтай б/г мороженый                 62593218774         0.0  281485109.0\n",
       "сельдь тихоокеанская                 11995594961    308856.0  179568763.0\n",
       "сельдь тихоокеанская н/р мороженая    9425736835         0.0  157704270.0\n",
       "путассу (северная)                    4787364269    246627.0   85655049.0\n",
       "филе минтая мороженое                72158586141         0.0   85229755.0\n",
       "пикша мороженая                       5332610003         0.0   52233340.0\n",
       "минтай н/р мороженый                  8716334919         0.0   50878872.0\n",
       "минтай мороженый                     28132399985         0.0   48889204.0"
      ]
     },
     "execution_count": 197,
     "metadata": {},
     "output_type": "execute_result"
    }
   ],
   "source": [
    "top_fish[:10]\n",
    "# todo classify fish by name"
   ]
  },
  {
   "cell_type": "markdown",
   "metadata": {},
   "source": [
    "Merge and dump db2"
   ]
  },
  {
   "cell_type": "code",
   "execution_count": 198,
   "metadata": {},
   "outputs": [],
   "source": [
    "df_db2 = pd.merge(df_ext_merged,df_ext2_merged,on='id_vsd')\n",
    "df_db2.to_csv('db2.csv',index=None)"
   ]
  },
  {
   "cell_type": "code",
   "execution_count": 280,
   "metadata": {},
   "outputs": [],
   "source": [
    "df_db2=pd.read_csv('db2.csv')"
   ]
  }
 ],
 "metadata": {
  "interpreter": {
   "hash": "916dbcbb3f70747c44a77c7bcd40155683ae19c65e1c03b4aa3499c5328201f1"
  },
  "kernelspec": {
   "display_name": "Python 3.8.10 64-bit",
   "language": "python",
   "name": "python3"
  },
  "language_info": {
   "codemirror_mode": {
    "name": "ipython",
    "version": 3
   },
   "file_extension": ".py",
   "mimetype": "text/x-python",
   "name": "python",
   "nbconvert_exporter": "python",
   "pygments_lexer": "ipython3",
   "version": "3.8.10"
  },
  "orig_nbformat": 4
 },
 "nbformat": 4,
 "nbformat_minor": 2
}
