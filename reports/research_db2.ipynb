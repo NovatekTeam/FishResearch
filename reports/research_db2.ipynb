{
 "cells": [
  {
   "cell_type": "code",
   "execution_count": 3,
   "metadata": {},
   "outputs": [],
   "source": [
    "import os\n",
    "import pandas as pd"
   ]
  },
  {
   "cell_type": "code",
   "execution_count": 4,
   "metadata": {},
   "outputs": [],
   "source": [
    "df_ext = pd.read_csv(os.path.join('datasets','db2','Ext.csv'))\n",
    "df_ext2 = pd.read_csv(os.path.join('datasets','db2','Ext2.csv'))"
   ]
  },
  {
   "cell_type": "code",
   "execution_count": 6,
   "metadata": {},
   "outputs": [
    {
     "data": {
      "text/html": [
       "<div>\n",
       "<style scoped>\n",
       "    .dataframe tbody tr th:only-of-type {\n",
       "        vertical-align: middle;\n",
       "    }\n",
       "\n",
       "    .dataframe tbody tr th {\n",
       "        vertical-align: top;\n",
       "    }\n",
       "\n",
       "    .dataframe thead th {\n",
       "        text-align: right;\n",
       "    }\n",
       "</style>\n",
       "<table border=\"1\" class=\"dataframe\">\n",
       "  <thead>\n",
       "    <tr style=\"text-align: right;\">\n",
       "      <th></th>\n",
       "      <th>id_vsd</th>\n",
       "      <th>num_vsd</th>\n",
       "      <th>id_fish</th>\n",
       "      <th>fish</th>\n",
       "      <th>date_vsd</th>\n",
       "      <th>volume</th>\n",
       "      <th>unit</th>\n",
       "    </tr>\n",
       "  </thead>\n",
       "  <tbody>\n",
       "    <tr>\n",
       "      <th>0</th>\n",
       "      <td>7230988</td>\n",
       "      <td>8934601</td>\n",
       "      <td>400</td>\n",
       "      <td>минтай</td>\n",
       "      <td>2022-01-01 00:39:56</td>\n",
       "      <td>75480</td>\n",
       "      <td>\\N</td>\n",
       "    </tr>\n",
       "    <tr>\n",
       "      <th>1</th>\n",
       "      <td>3420538</td>\n",
       "      <td>1439843</td>\n",
       "      <td>400</td>\n",
       "      <td>минтай</td>\n",
       "      <td>2022-01-01 01:34:08</td>\n",
       "      <td>62586</td>\n",
       "      <td>\\N</td>\n",
       "    </tr>\n",
       "    <tr>\n",
       "      <th>2</th>\n",
       "      <td>9509257</td>\n",
       "      <td>342637</td>\n",
       "      <td>292</td>\n",
       "      <td>треска</td>\n",
       "      <td>2022-01-01 01:34:11</td>\n",
       "      <td>1155</td>\n",
       "      <td>\\N</td>\n",
       "    </tr>\n",
       "    <tr>\n",
       "      <th>3</th>\n",
       "      <td>1894307</td>\n",
       "      <td>1801854</td>\n",
       "      <td>400</td>\n",
       "      <td>минтай</td>\n",
       "      <td>2022-01-01 01:34:05</td>\n",
       "      <td>111048</td>\n",
       "      <td>\\N</td>\n",
       "    </tr>\n",
       "    <tr>\n",
       "      <th>4</th>\n",
       "      <td>9410489</td>\n",
       "      <td>3126516</td>\n",
       "      <td>88</td>\n",
       "      <td>окунь-клювач</td>\n",
       "      <td>2022-01-01 01:34:11</td>\n",
       "      <td>1844</td>\n",
       "      <td>\\N</td>\n",
       "    </tr>\n",
       "  </tbody>\n",
       "</table>\n",
       "</div>"
      ],
      "text/plain": [
       "    id_vsd  num_vsd  id_fish          fish             date_vsd  volume unit\n",
       "0  7230988  8934601      400        минтай  2022-01-01 00:39:56   75480   \\N\n",
       "1  3420538  1439843      400        минтай  2022-01-01 01:34:08   62586   \\N\n",
       "2  9509257   342637      292        треска  2022-01-01 01:34:11    1155   \\N\n",
       "3  1894307  1801854      400        минтай  2022-01-01 01:34:05  111048   \\N\n",
       "4  9410489  3126516       88  окунь-клювач  2022-01-01 01:34:11    1844   \\N"
      ]
     },
     "execution_count": 6,
     "metadata": {},
     "output_type": "execute_result"
    }
   ],
   "source": [
    "df_ext2.head()"
   ]
  },
  {
   "cell_type": "code",
   "execution_count": 135,
   "metadata": {},
   "outputs": [],
   "source": [
    "df_ext = pd.read_csv(os.path.join('db2','Ext.csv'))"
   ]
  },
  {
   "cell_type": "markdown",
   "metadata": {},
   "source": [
    "## Preproccessing"
   ]
  },
  {
   "cell_type": "markdown",
   "metadata": {},
   "source": [
    "### Ext\n",
    "#### Remove duplicates"
   ]
  },
  {
   "cell_type": "code",
   "execution_count": 2,
   "metadata": {},
   "outputs": [
    {
     "data": {
      "text/plain": [
       "159"
      ]
     },
     "execution_count": 2,
     "metadata": {},
     "output_type": "execute_result"
    }
   ],
   "source": [
    "len(df_ext['id_own'].unique())"
   ]
  },
  {
   "cell_type": "code",
   "execution_count": 3,
   "metadata": {},
   "outputs": [
    {
     "name": "stdout",
     "output_type": "stream",
     "text": [
      "<class 'pandas.core.frame.DataFrame'>\n",
      "RangeIndex: 3260798 entries, 0 to 3260797\n",
      "Data columns (total 9 columns):\n",
      " #   Column          Dtype \n",
      "---  ------          ----- \n",
      " 0   id_fishery      int64 \n",
      " 1   id_own          int64 \n",
      " 2   date_fishery    object\n",
      " 3   numPart         object\n",
      " 4   id_Plat         int64 \n",
      " 5   id_vsd          int64 \n",
      " 6   Name_Plat       object\n",
      " 7   Product_period  object\n",
      " 8   Region_Plat     object\n",
      "dtypes: int64(4), object(5)\n",
      "memory usage: 223.9+ MB\n"
     ]
    }
   ],
   "source": [
    "df_ext.info()"
   ]
  },
  {
   "cell_type": "code",
   "execution_count": 4,
   "metadata": {},
   "outputs": [
    {
     "data": {
      "text/plain": [
       "count     3260798\n",
       "unique          4\n",
       "top            \\N\n",
       "freq      3260788\n",
       "Name: numPart, dtype: object"
      ]
     },
     "execution_count": 4,
     "metadata": {},
     "output_type": "execute_result"
    }
   ],
   "source": [
    "df_ext['numPart'].describe()"
   ]
  },
  {
   "cell_type": "markdown",
   "metadata": {},
   "source": [
    "There just 4 unique values. Let's see them"
   ]
  },
  {
   "cell_type": "code",
   "execution_count": 5,
   "metadata": {},
   "outputs": [
    {
     "data": {
      "text/html": [
       "<div>\n",
       "<style scoped>\n",
       "    .dataframe tbody tr th:only-of-type {\n",
       "        vertical-align: middle;\n",
       "    }\n",
       "\n",
       "    .dataframe tbody tr th {\n",
       "        vertical-align: top;\n",
       "    }\n",
       "\n",
       "    .dataframe thead th {\n",
       "        text-align: right;\n",
       "    }\n",
       "</style>\n",
       "<table border=\"1\" class=\"dataframe\">\n",
       "  <thead>\n",
       "    <tr style=\"text-align: right;\">\n",
       "      <th></th>\n",
       "      <th>id_fishery</th>\n",
       "      <th>id_own</th>\n",
       "      <th>date_fishery</th>\n",
       "      <th>numPart</th>\n",
       "      <th>id_Plat</th>\n",
       "      <th>id_vsd</th>\n",
       "      <th>Name_Plat</th>\n",
       "      <th>Product_period</th>\n",
       "      <th>Region_Plat</th>\n",
       "    </tr>\n",
       "  </thead>\n",
       "  <tbody>\n",
       "    <tr>\n",
       "      <th>3154783</th>\n",
       "      <td>4351001</td>\n",
       "      <td>6934839</td>\n",
       "      <td>2021-09-14 00:00:00</td>\n",
       "      <td>1</td>\n",
       "      <td>7527473</td>\n",
       "      <td>8344324</td>\n",
       "      <td>\\N</td>\n",
       "      <td>\\N</td>\n",
       "      <td>\\N</td>\n",
       "    </tr>\n",
       "    <tr>\n",
       "      <th>3154784</th>\n",
       "      <td>4351001</td>\n",
       "      <td>6934839</td>\n",
       "      <td>2021-09-14 00:00:00</td>\n",
       "      <td>1</td>\n",
       "      <td>7527473</td>\n",
       "      <td>1887570</td>\n",
       "      <td>\\N</td>\n",
       "      <td>\\N</td>\n",
       "      <td>\\N</td>\n",
       "    </tr>\n",
       "    <tr>\n",
       "      <th>3154785</th>\n",
       "      <td>4351001</td>\n",
       "      <td>6934839</td>\n",
       "      <td>2021-09-14 00:00:00</td>\n",
       "      <td>3</td>\n",
       "      <td>7527473</td>\n",
       "      <td>3240949</td>\n",
       "      <td>\\N</td>\n",
       "      <td>\\N</td>\n",
       "      <td>\\N</td>\n",
       "    </tr>\n",
       "    <tr>\n",
       "      <th>3154786</th>\n",
       "      <td>4351001</td>\n",
       "      <td>6934839</td>\n",
       "      <td>2021-09-14 00:00:00</td>\n",
       "      <td>2</td>\n",
       "      <td>7527473</td>\n",
       "      <td>8431544</td>\n",
       "      <td>\\N</td>\n",
       "      <td>\\N</td>\n",
       "      <td>\\N</td>\n",
       "    </tr>\n",
       "    <tr>\n",
       "      <th>3154787</th>\n",
       "      <td>4351001</td>\n",
       "      <td>6934839</td>\n",
       "      <td>2021-09-14 00:00:00</td>\n",
       "      <td>3</td>\n",
       "      <td>7527473</td>\n",
       "      <td>7810860</td>\n",
       "      <td>\\N</td>\n",
       "      <td>\\N</td>\n",
       "      <td>\\N</td>\n",
       "    </tr>\n",
       "    <tr>\n",
       "      <th>3154788</th>\n",
       "      <td>3421686</td>\n",
       "      <td>6088979</td>\n",
       "      <td>2021-09-14 00:00:00</td>\n",
       "      <td>3</td>\n",
       "      <td>6845406</td>\n",
       "      <td>4977416</td>\n",
       "      <td>\\N</td>\n",
       "      <td>\\N</td>\n",
       "      <td>\\N</td>\n",
       "    </tr>\n",
       "    <tr>\n",
       "      <th>3154789</th>\n",
       "      <td>3421686</td>\n",
       "      <td>6088979</td>\n",
       "      <td>2021-09-14 00:00:00</td>\n",
       "      <td>1</td>\n",
       "      <td>6845406</td>\n",
       "      <td>575387</td>\n",
       "      <td>\\N</td>\n",
       "      <td>\\N</td>\n",
       "      <td>\\N</td>\n",
       "    </tr>\n",
       "    <tr>\n",
       "      <th>3154790</th>\n",
       "      <td>3421686</td>\n",
       "      <td>6088979</td>\n",
       "      <td>2021-09-14 00:00:00</td>\n",
       "      <td>3</td>\n",
       "      <td>6845406</td>\n",
       "      <td>8953643</td>\n",
       "      <td>\\N</td>\n",
       "      <td>\\N</td>\n",
       "      <td>\\N</td>\n",
       "    </tr>\n",
       "    <tr>\n",
       "      <th>3154791</th>\n",
       "      <td>3421686</td>\n",
       "      <td>6088979</td>\n",
       "      <td>2021-09-14 00:00:00</td>\n",
       "      <td>3</td>\n",
       "      <td>6845406</td>\n",
       "      <td>6158965</td>\n",
       "      <td>\\N</td>\n",
       "      <td>\\N</td>\n",
       "      <td>\\N</td>\n",
       "    </tr>\n",
       "    <tr>\n",
       "      <th>3154792</th>\n",
       "      <td>3421686</td>\n",
       "      <td>6088979</td>\n",
       "      <td>2021-09-14 00:00:00</td>\n",
       "      <td>2</td>\n",
       "      <td>6845406</td>\n",
       "      <td>8428528</td>\n",
       "      <td>\\N</td>\n",
       "      <td>\\N</td>\n",
       "      <td>\\N</td>\n",
       "    </tr>\n",
       "  </tbody>\n",
       "</table>\n",
       "</div>"
      ],
      "text/plain": [
       "         id_fishery   id_own         date_fishery numPart  id_Plat   id_vsd  \\\n",
       "3154783     4351001  6934839  2021-09-14 00:00:00       1  7527473  8344324   \n",
       "3154784     4351001  6934839  2021-09-14 00:00:00       1  7527473  1887570   \n",
       "3154785     4351001  6934839  2021-09-14 00:00:00       3  7527473  3240949   \n",
       "3154786     4351001  6934839  2021-09-14 00:00:00       2  7527473  8431544   \n",
       "3154787     4351001  6934839  2021-09-14 00:00:00       3  7527473  7810860   \n",
       "3154788     3421686  6088979  2021-09-14 00:00:00       3  6845406  4977416   \n",
       "3154789     3421686  6088979  2021-09-14 00:00:00       1  6845406   575387   \n",
       "3154790     3421686  6088979  2021-09-14 00:00:00       3  6845406  8953643   \n",
       "3154791     3421686  6088979  2021-09-14 00:00:00       3  6845406  6158965   \n",
       "3154792     3421686  6088979  2021-09-14 00:00:00       2  6845406  8428528   \n",
       "\n",
       "        Name_Plat Product_period Region_Plat  \n",
       "3154783        \\N             \\N          \\N  \n",
       "3154784        \\N             \\N          \\N  \n",
       "3154785        \\N             \\N          \\N  \n",
       "3154786        \\N             \\N          \\N  \n",
       "3154787        \\N             \\N          \\N  \n",
       "3154788        \\N             \\N          \\N  \n",
       "3154789        \\N             \\N          \\N  \n",
       "3154790        \\N             \\N          \\N  \n",
       "3154791        \\N             \\N          \\N  \n",
       "3154792        \\N             \\N          \\N  "
      ]
     },
     "execution_count": 5,
     "metadata": {},
     "output_type": "execute_result"
    }
   ],
   "source": [
    "df_ext[df_ext['numPart']!='\\\\N']"
   ]
  },
  {
   "cell_type": "markdown",
   "metadata": {},
   "source": [
    "Not intresting. Remove this feature."
   ]
  },
  {
   "cell_type": "code",
   "execution_count": 6,
   "metadata": {},
   "outputs": [
    {
     "data": {
      "text/html": [
       "<div>\n",
       "<style scoped>\n",
       "    .dataframe tbody tr th:only-of-type {\n",
       "        vertical-align: middle;\n",
       "    }\n",
       "\n",
       "    .dataframe tbody tr th {\n",
       "        vertical-align: top;\n",
       "    }\n",
       "\n",
       "    .dataframe thead th {\n",
       "        text-align: right;\n",
       "    }\n",
       "</style>\n",
       "<table border=\"1\" class=\"dataframe\">\n",
       "  <thead>\n",
       "    <tr style=\"text-align: right;\">\n",
       "      <th></th>\n",
       "      <th>id_fishery</th>\n",
       "      <th>id_own</th>\n",
       "      <th>date_fishery</th>\n",
       "      <th>id_Plat</th>\n",
       "      <th>id_vsd</th>\n",
       "      <th>Name_Plat</th>\n",
       "      <th>Product_period</th>\n",
       "      <th>Region_Plat</th>\n",
       "    </tr>\n",
       "  </thead>\n",
       "  <tbody>\n",
       "    <tr>\n",
       "      <th>54815</th>\n",
       "      <td>4009512</td>\n",
       "      <td>794477</td>\n",
       "      <td>2022-04-19 00:00:00</td>\n",
       "      <td>6185761</td>\n",
       "      <td>1761759</td>\n",
       "      <td>\\N</td>\n",
       "      <td>\\N</td>\n",
       "      <td>\\N</td>\n",
       "    </tr>\n",
       "    <tr>\n",
       "      <th>54816</th>\n",
       "      <td>2208303</td>\n",
       "      <td>6493928</td>\n",
       "      <td>2022-04-19 00:00:00</td>\n",
       "      <td>5022636</td>\n",
       "      <td>2962860</td>\n",
       "      <td>\\N</td>\n",
       "      <td>\\N</td>\n",
       "      <td>\\N</td>\n",
       "    </tr>\n",
       "    <tr>\n",
       "      <th>54817</th>\n",
       "      <td>9088403</td>\n",
       "      <td>3846064</td>\n",
       "      <td>2022-04-19 00:00:00</td>\n",
       "      <td>123758</td>\n",
       "      <td>9232550</td>\n",
       "      <td>\\N</td>\n",
       "      <td>\\N</td>\n",
       "      <td>\\N</td>\n",
       "    </tr>\n",
       "  </tbody>\n",
       "</table>\n",
       "</div>"
      ],
      "text/plain": [
       "       id_fishery   id_own         date_fishery  id_Plat   id_vsd Name_Plat  \\\n",
       "54815     4009512   794477  2022-04-19 00:00:00  6185761  1761759        \\N   \n",
       "54816     2208303  6493928  2022-04-19 00:00:00  5022636  2962860        \\N   \n",
       "54817     9088403  3846064  2022-04-19 00:00:00   123758  9232550        \\N   \n",
       "\n",
       "      Product_period Region_Plat  \n",
       "54815             \\N          \\N  \n",
       "54816             \\N          \\N  \n",
       "54817             \\N          \\N  "
      ]
     },
     "execution_count": 6,
     "metadata": {},
     "output_type": "execute_result"
    }
   ],
   "source": [
    "df_ext.drop(columns=['numPart'], inplace=True)\n",
    "df_ext[df_ext['id_vsd'].duplicated()].head(3)"
   ]
  },
  {
   "cell_type": "code",
   "execution_count": 7,
   "metadata": {},
   "outputs": [
    {
     "data": {
      "text/plain": [
       "'45854 record is duplicated'"
      ]
     },
     "execution_count": 7,
     "metadata": {},
     "output_type": "execute_result"
    }
   ],
   "source": [
    "def count_duplicated(df,id):\n",
    "    return len(df[df[id].duplicated()])\n",
    "\n",
    "'%s record is duplicated' % count_duplicated(df_ext,'id_vsd')"
   ]
  },
  {
   "cell_type": "markdown",
   "metadata": {},
   "source": [
    "We see duplicated values, check what is duplicated records"
   ]
  },
  {
   "cell_type": "code",
   "execution_count": 8,
   "metadata": {},
   "outputs": [
    {
     "data": {
      "text/html": [
       "<div>\n",
       "<style scoped>\n",
       "    .dataframe tbody tr th:only-of-type {\n",
       "        vertical-align: middle;\n",
       "    }\n",
       "\n",
       "    .dataframe tbody tr th {\n",
       "        vertical-align: top;\n",
       "    }\n",
       "\n",
       "    .dataframe thead th {\n",
       "        text-align: right;\n",
       "    }\n",
       "</style>\n",
       "<table border=\"1\" class=\"dataframe\">\n",
       "  <thead>\n",
       "    <tr style=\"text-align: right;\">\n",
       "      <th></th>\n",
       "      <th>id_fishery</th>\n",
       "      <th>id_own</th>\n",
       "      <th>date_fishery</th>\n",
       "      <th>id_Plat</th>\n",
       "      <th>id_vsd</th>\n",
       "      <th>Name_Plat</th>\n",
       "      <th>Product_period</th>\n",
       "      <th>Region_Plat</th>\n",
       "    </tr>\n",
       "  </thead>\n",
       "  <tbody>\n",
       "    <tr>\n",
       "      <th>19581</th>\n",
       "      <td>-1</td>\n",
       "      <td>5502023</td>\n",
       "      <td>2022-04-19 18:48:13</td>\n",
       "      <td>123758</td>\n",
       "      <td>9232550</td>\n",
       "      <td>4267051</td>\n",
       "      <td>\\N</td>\n",
       "      <td>Приморский край</td>\n",
       "    </tr>\n",
       "    <tr>\n",
       "      <th>54817</th>\n",
       "      <td>9088403</td>\n",
       "      <td>3846064</td>\n",
       "      <td>2022-04-19 00:00:00</td>\n",
       "      <td>123758</td>\n",
       "      <td>9232550</td>\n",
       "      <td>\\N</td>\n",
       "      <td>\\N</td>\n",
       "      <td>\\N</td>\n",
       "    </tr>\n",
       "  </tbody>\n",
       "</table>\n",
       "</div>"
      ],
      "text/plain": [
       "       id_fishery   id_own         date_fishery  id_Plat   id_vsd Name_Plat  \\\n",
       "19581          -1  5502023  2022-04-19 18:48:13   123758  9232550   4267051   \n",
       "54817     9088403  3846064  2022-04-19 00:00:00   123758  9232550        \\N   \n",
       "\n",
       "      Product_period      Region_Plat  \n",
       "19581             \\N  Приморский край  \n",
       "54817             \\N               \\N  "
      ]
     },
     "execution_count": 8,
     "metadata": {},
     "output_type": "execute_result"
    }
   ],
   "source": [
    "df_ext[df_ext['id_vsd']==9232550]"
   ]
  },
  {
   "cell_type": "markdown",
   "metadata": {},
   "source": [
    "We see that it is same records but with more information. Try remerge same records in one."
   ]
  },
  {
   "cell_type": "code",
   "execution_count": 9,
   "metadata": {},
   "outputs": [],
   "source": [
    "df_ext_descr = df_ext[(df_ext['Name_Plat'] != '\\\\N') | (df_ext['Product_period'] != '\\\\N') | (df_ext['Region_Plat'] != '\\\\N')]"
   ]
  },
  {
   "cell_type": "markdown",
   "metadata": {},
   "source": [
    "Check that in description table not duplicated values"
   ]
  },
  {
   "cell_type": "code",
   "execution_count": 10,
   "metadata": {},
   "outputs": [
    {
     "name": "stdout",
     "output_type": "stream",
     "text": [
      "In decription table 0 records is duplicated\n"
     ]
    }
   ],
   "source": [
    "print('In decription table %s records is duplicated' % count_duplicated(df_ext_descr,'id_vsd'))"
   ]
  },
  {
   "cell_type": "code",
   "execution_count": 11,
   "metadata": {},
   "outputs": [
    {
     "data": {
      "text/plain": [
       "'Unique 3214944 ids'"
      ]
     },
     "execution_count": 11,
     "metadata": {},
     "output_type": "execute_result"
    }
   ],
   "source": [
    "'Unique %s ids' % len(df_ext['id_vsd'].unique())"
   ]
  },
  {
   "cell_type": "markdown",
   "metadata": {},
   "source": [
    "Merge tables"
   ]
  },
  {
   "cell_type": "code",
   "execution_count": 12,
   "metadata": {},
   "outputs": [],
   "source": [
    "df_ext_wo_data=df_ext.drop(df_ext_descr.index)"
   ]
  },
  {
   "cell_type": "code",
   "execution_count": 13,
   "metadata": {},
   "outputs": [
    {
     "data": {
      "text/plain": [
       "3214944"
      ]
     },
     "execution_count": 13,
     "metadata": {},
     "output_type": "execute_result"
    }
   ],
   "source": [
    "df_ext_merged = pd.merge(\n",
    "    pd.DataFrame(df_ext['id_vsd'].unique(), columns=['id_vsd']),\n",
    "    df_ext_wo_data[['id_vsd','id_own','id_fishery','date_fishery','id_Plat']],\n",
    "    on='id_vsd',\n",
    "    how=\"left\"\n",
    ")\n",
    "len(df_ext_merged)"
   ]
  },
  {
   "cell_type": "code",
   "execution_count": 14,
   "metadata": {},
   "outputs": [
    {
     "data": {
      "text/plain": [
       "3214944"
      ]
     },
     "execution_count": 14,
     "metadata": {},
     "output_type": "execute_result"
    }
   ],
   "source": [
    "df_ext_merged = pd.merge(\n",
    "    df_ext_merged,\n",
    "    df_ext_descr[['id_vsd','date_fishery','Name_Plat','Product_period','Region_Plat']],\n",
    "    on='id_vsd',\n",
    "    how=\"left\"\n",
    ")\n",
    "len(df_ext_merged)"
   ]
  },
  {
   "cell_type": "markdown",
   "metadata": {},
   "source": [
    "Fill `date_fishery` from describted table"
   ]
  },
  {
   "cell_type": "code",
   "execution_count": 15,
   "metadata": {},
   "outputs": [
    {
     "data": {
      "text/plain": [
       "3214944"
      ]
     },
     "execution_count": 15,
     "metadata": {},
     "output_type": "execute_result"
    }
   ],
   "source": [
    "df_ext_merged.loc[~df_ext_merged['date_fishery_y'].isna(),'date_fishery_x']=df_ext_merged['date_fishery_y']\n",
    "df_ext_merged.drop(columns='date_fishery_y',inplace=True)\n",
    "len(df_ext_merged)"
   ]
  },
  {
   "cell_type": "markdown",
   "metadata": {},
   "source": [
    "Same work with df_ext2"
   ]
  },
  {
   "cell_type": "code",
   "execution_count": 16,
   "metadata": {},
   "outputs": [
    {
     "data": {
      "text/html": [
       "<div>\n",
       "<style scoped>\n",
       "    .dataframe tbody tr th:only-of-type {\n",
       "        vertical-align: middle;\n",
       "    }\n",
       "\n",
       "    .dataframe tbody tr th {\n",
       "        vertical-align: top;\n",
       "    }\n",
       "\n",
       "    .dataframe thead th {\n",
       "        text-align: right;\n",
       "    }\n",
       "</style>\n",
       "<table border=\"1\" class=\"dataframe\">\n",
       "  <thead>\n",
       "    <tr style=\"text-align: right;\">\n",
       "      <th></th>\n",
       "      <th>id_vsd</th>\n",
       "      <th>num_vsd</th>\n",
       "      <th>id_fish</th>\n",
       "      <th>fish</th>\n",
       "      <th>date_vsd</th>\n",
       "      <th>volume</th>\n",
       "      <th>unit</th>\n",
       "    </tr>\n",
       "  </thead>\n",
       "  <tbody>\n",
       "    <tr>\n",
       "      <th>556258</th>\n",
       "      <td>5544870</td>\n",
       "      <td>9407937</td>\n",
       "      <td>-1</td>\n",
       "      <td>пикша свежая</td>\n",
       "      <td>2022-03-21 02:54:35</td>\n",
       "      <td>3</td>\n",
       "      <td>тонна</td>\n",
       "    </tr>\n",
       "    <tr>\n",
       "      <th>556259</th>\n",
       "      <td>7404235</td>\n",
       "      <td>6104740</td>\n",
       "      <td>-1</td>\n",
       "      <td>треска</td>\n",
       "      <td>2022-03-21 02:54:34</td>\n",
       "      <td>1</td>\n",
       "      <td>тонна</td>\n",
       "    </tr>\n",
       "    <tr>\n",
       "      <th>556260</th>\n",
       "      <td>9178156</td>\n",
       "      <td>4392911</td>\n",
       "      <td>-1</td>\n",
       "      <td>окунь-клювач</td>\n",
       "      <td>2022-03-21 02:54:33</td>\n",
       "      <td>0</td>\n",
       "      <td>тонна</td>\n",
       "    </tr>\n",
       "  </tbody>\n",
       "</table>\n",
       "</div>"
      ],
      "text/plain": [
       "         id_vsd  num_vsd  id_fish          fish             date_vsd  volume  \\\n",
       "556258  5544870  9407937       -1  пикша свежая  2022-03-21 02:54:35       3   \n",
       "556259  7404235  6104740       -1        треска  2022-03-21 02:54:34       1   \n",
       "556260  9178156  4392911       -1  окунь-клювач  2022-03-21 02:54:33       0   \n",
       "\n",
       "         unit  \n",
       "556258  тонна  \n",
       "556259  тонна  \n",
       "556260  тонна  "
      ]
     },
     "execution_count": 16,
     "metadata": {},
     "output_type": "execute_result"
    }
   ],
   "source": [
    "df_ext2[df_ext2['id_vsd'].duplicated()].head(3)"
   ]
  },
  {
   "cell_type": "code",
   "execution_count": 17,
   "metadata": {},
   "outputs": [
    {
     "data": {
      "text/plain": [
       "'45854 record is duplicated'"
      ]
     },
     "execution_count": 17,
     "metadata": {},
     "output_type": "execute_result"
    }
   ],
   "source": [
    "'%s record is duplicated' % count_duplicated(df_ext2,'id_vsd')"
   ]
  },
  {
   "cell_type": "code",
   "execution_count": 18,
   "metadata": {},
   "outputs": [
    {
     "data": {
      "text/html": [
       "<div>\n",
       "<style scoped>\n",
       "    .dataframe tbody tr th:only-of-type {\n",
       "        vertical-align: middle;\n",
       "    }\n",
       "\n",
       "    .dataframe tbody tr th {\n",
       "        vertical-align: top;\n",
       "    }\n",
       "\n",
       "    .dataframe thead th {\n",
       "        text-align: right;\n",
       "    }\n",
       "</style>\n",
       "<table border=\"1\" class=\"dataframe\">\n",
       "  <thead>\n",
       "    <tr style=\"text-align: right;\">\n",
       "      <th></th>\n",
       "      <th>id_vsd</th>\n",
       "      <th>num_vsd</th>\n",
       "      <th>id_fish</th>\n",
       "      <th>fish</th>\n",
       "      <th>date_vsd</th>\n",
       "      <th>volume</th>\n",
       "      <th>unit</th>\n",
       "    </tr>\n",
       "  </thead>\n",
       "  <tbody>\n",
       "    <tr>\n",
       "      <th>32570</th>\n",
       "      <td>5544870</td>\n",
       "      <td>9407937</td>\n",
       "      <td>408</td>\n",
       "      <td>пикша</td>\n",
       "      <td>2022-03-21 02:54:35</td>\n",
       "      <td>3496</td>\n",
       "      <td>\\N</td>\n",
       "    </tr>\n",
       "    <tr>\n",
       "      <th>556258</th>\n",
       "      <td>5544870</td>\n",
       "      <td>9407937</td>\n",
       "      <td>-1</td>\n",
       "      <td>пикша свежая</td>\n",
       "      <td>2022-03-21 02:54:35</td>\n",
       "      <td>3</td>\n",
       "      <td>тонна</td>\n",
       "    </tr>\n",
       "  </tbody>\n",
       "</table>\n",
       "</div>"
      ],
      "text/plain": [
       "         id_vsd  num_vsd  id_fish          fish             date_vsd  volume  \\\n",
       "32570   5544870  9407937      408         пикша  2022-03-21 02:54:35    3496   \n",
       "556258  5544870  9407937       -1  пикша свежая  2022-03-21 02:54:35       3   \n",
       "\n",
       "         unit  \n",
       "32570      \\N  \n",
       "556258  тонна  "
      ]
     },
     "execution_count": 18,
     "metadata": {},
     "output_type": "execute_result"
    }
   ],
   "source": [
    "df_ext2[df_ext2['id_vsd']==5544870]"
   ]
  },
  {
   "cell_type": "markdown",
   "metadata": {},
   "source": [
    "Seems that in duplicated records contains round values. We get more descridable records"
   ]
  },
  {
   "cell_type": "code",
   "execution_count": 19,
   "metadata": {},
   "outputs": [
    {
     "data": {
      "text/plain": [
       "'Unique 3069426 ids'"
      ]
     },
     "execution_count": 19,
     "metadata": {},
     "output_type": "execute_result"
    }
   ],
   "source": [
    "'Unique %s ids' % len(df_ext2['id_vsd'].unique())"
   ]
  },
  {
   "cell_type": "code",
   "execution_count": 20,
   "metadata": {},
   "outputs": [
    {
     "name": "stdout",
     "output_type": "stream",
     "text": [
      "In table with fish_id 0 records is duplicated\n",
      "In table without fish_id 0 records is duplicated\n"
     ]
    }
   ],
   "source": [
    "df_ext2_w_fish_id = df_ext2[df_ext2['id_fish']!=-1]\n",
    "print('In table with fish_id %s records is duplicated' % count_duplicated(df_ext2_w_fish_id,'id_vsd'))\n",
    "df_ext2_wo_fish_id = df_ext2.drop(df_ext2_w_fish_id.index)\n",
    "print('In table without fish_id %s records is duplicated' % count_duplicated(df_ext2_w_fish_id,'id_vsd'))"
   ]
  },
  {
   "cell_type": "code",
   "execution_count": 21,
   "metadata": {},
   "outputs": [
    {
     "data": {
      "text/html": [
       "<div>\n",
       "<style scoped>\n",
       "    .dataframe tbody tr th:only-of-type {\n",
       "        vertical-align: middle;\n",
       "    }\n",
       "\n",
       "    .dataframe tbody tr th {\n",
       "        vertical-align: top;\n",
       "    }\n",
       "\n",
       "    .dataframe thead th {\n",
       "        text-align: right;\n",
       "    }\n",
       "</style>\n",
       "<table border=\"1\" class=\"dataframe\">\n",
       "  <thead>\n",
       "    <tr style=\"text-align: right;\">\n",
       "      <th></th>\n",
       "      <th>id_vsd</th>\n",
       "      <th>num_vsd</th>\n",
       "      <th>id_fish</th>\n",
       "      <th>fish</th>\n",
       "      <th>date_vsd</th>\n",
       "      <th>volume</th>\n",
       "      <th>unit</th>\n",
       "    </tr>\n",
       "  </thead>\n",
       "  <tbody>\n",
       "    <tr>\n",
       "      <th>39891</th>\n",
       "      <td>7751200</td>\n",
       "      <td>7862380</td>\n",
       "      <td>-1</td>\n",
       "      <td>скумбрия холодного копчения</td>\n",
       "      <td>2022-01-14 09:25:25</td>\n",
       "      <td>250</td>\n",
       "      <td>кг</td>\n",
       "    </tr>\n",
       "    <tr>\n",
       "      <th>39892</th>\n",
       "      <td>3956581</td>\n",
       "      <td>3961887</td>\n",
       "      <td>-1</td>\n",
       "      <td>икра сельди соленая</td>\n",
       "      <td>2022-01-04 05:16:29</td>\n",
       "      <td>3</td>\n",
       "      <td>кг</td>\n",
       "    </tr>\n",
       "    <tr>\n",
       "      <th>39893</th>\n",
       "      <td>2684005</td>\n",
       "      <td>4888194</td>\n",
       "      <td>-1</td>\n",
       "      <td>готовые блюда из рыбы</td>\n",
       "      <td>2022-02-03 15:43:10</td>\n",
       "      <td>2</td>\n",
       "      <td>кг</td>\n",
       "    </tr>\n",
       "    <tr>\n",
       "      <th>39894</th>\n",
       "      <td>7397214</td>\n",
       "      <td>3661485</td>\n",
       "      <td>-1</td>\n",
       "      <td>путассу солено-сушеная</td>\n",
       "      <td>2022-03-21 08:49:01</td>\n",
       "      <td>174</td>\n",
       "      <td>кг</td>\n",
       "    </tr>\n",
       "    <tr>\n",
       "      <th>39895</th>\n",
       "      <td>5435838</td>\n",
       "      <td>7248730</td>\n",
       "      <td>-1</td>\n",
       "      <td>путассу вяленая</td>\n",
       "      <td>2022-03-21 06:22:35</td>\n",
       "      <td>50</td>\n",
       "      <td>кг</td>\n",
       "    </tr>\n",
       "  </tbody>\n",
       "</table>\n",
       "</div>"
      ],
      "text/plain": [
       "        id_vsd  num_vsd  id_fish                         fish  \\\n",
       "39891  7751200  7862380       -1  скумбрия холодного копчения   \n",
       "39892  3956581  3961887       -1          икра сельди соленая   \n",
       "39893  2684005  4888194       -1        готовые блюда из рыбы   \n",
       "39894  7397214  3661485       -1       путассу солено-сушеная   \n",
       "39895  5435838  7248730       -1              путассу вяленая   \n",
       "\n",
       "                  date_vsd  volume unit  \n",
       "39891  2022-01-14 09:25:25     250   кг  \n",
       "39892  2022-01-04 05:16:29       3   кг  \n",
       "39893  2022-02-03 15:43:10       2   кг  \n",
       "39894  2022-03-21 08:49:01     174   кг  \n",
       "39895  2022-03-21 06:22:35      50   кг  "
      ]
     },
     "execution_count": 21,
     "metadata": {},
     "output_type": "execute_result"
    }
   ],
   "source": [
    "df_ext2_wo_fish_id.head()"
   ]
  },
  {
   "cell_type": "code",
   "execution_count": 138,
   "metadata": {},
   "outputs": [
    {
     "data": {
      "text/plain": [
       "3069426"
      ]
     },
     "execution_count": 138,
     "metadata": {},
     "output_type": "execute_result"
    }
   ],
   "source": [
    "df_ext2_merged = pd.merge(\n",
    "    pd.DataFrame(df_ext2['id_vsd'].unique(), columns=['id_vsd']),\n",
    "    df_ext2_w_fish_id[['id_vsd','id_fish','fish','volume','unit','date_vsd']],\n",
    "    on='id_vsd',\n",
    "    how=\"left\"\n",
    ")\n",
    "len(df_ext2_merged)"
   ]
  },
  {
   "cell_type": "code",
   "execution_count": 139,
   "metadata": {},
   "outputs": [
    {
     "data": {
      "text/plain": [
       "3069426"
      ]
     },
     "execution_count": 139,
     "metadata": {},
     "output_type": "execute_result"
    }
   ],
   "source": [
    "df_ext2_merged = pd.merge(\n",
    "    df_ext2_merged,\n",
    "    df_ext2_wo_fish_id[['id_vsd','fish','date_vsd','volume','unit']],\n",
    "    on='id_vsd',\n",
    "    how=\"left\"\n",
    ")\n",
    "len(df_ext2_merged)"
   ]
  },
  {
   "cell_type": "code",
   "execution_count": 124,
   "metadata": {},
   "outputs": [
    {
     "name": "stdout",
     "output_type": "stream",
     "text": [
      "In table without fish_id 0 records is duplicated\n"
     ]
    }
   ],
   "source": [
    "print('In table without fish_id %s records is duplicated' % count_duplicated(df_ext2_w_fish_id,'id_vsd'))"
   ]
  },
  {
   "cell_type": "code",
   "execution_count": 140,
   "metadata": {},
   "outputs": [
    {
     "data": {
      "text/html": [
       "<div>\n",
       "<style scoped>\n",
       "    .dataframe tbody tr th:only-of-type {\n",
       "        vertical-align: middle;\n",
       "    }\n",
       "\n",
       "    .dataframe tbody tr th {\n",
       "        vertical-align: top;\n",
       "    }\n",
       "\n",
       "    .dataframe thead th {\n",
       "        text-align: right;\n",
       "    }\n",
       "</style>\n",
       "<table border=\"1\" class=\"dataframe\">\n",
       "  <thead>\n",
       "    <tr style=\"text-align: right;\">\n",
       "      <th></th>\n",
       "      <th>id_vsd</th>\n",
       "      <th>id_fish</th>\n",
       "      <th>fish_x</th>\n",
       "      <th>volume_x</th>\n",
       "      <th>unit_x</th>\n",
       "      <th>date_vsd_x</th>\n",
       "      <th>fish_y</th>\n",
       "      <th>date_vsd_y</th>\n",
       "      <th>volume_y</th>\n",
       "      <th>unit_y</th>\n",
       "    </tr>\n",
       "  </thead>\n",
       "  <tbody>\n",
       "    <tr>\n",
       "      <th>0</th>\n",
       "      <td>7230988</td>\n",
       "      <td>400.0</td>\n",
       "      <td>минтай</td>\n",
       "      <td>75480.0</td>\n",
       "      <td>\\N</td>\n",
       "      <td>2022-01-01 00:39:56</td>\n",
       "      <td>NaN</td>\n",
       "      <td>NaN</td>\n",
       "      <td>NaN</td>\n",
       "      <td>NaN</td>\n",
       "    </tr>\n",
       "    <tr>\n",
       "      <th>1</th>\n",
       "      <td>3420538</td>\n",
       "      <td>400.0</td>\n",
       "      <td>минтай</td>\n",
       "      <td>62586.0</td>\n",
       "      <td>\\N</td>\n",
       "      <td>2022-01-01 01:34:08</td>\n",
       "      <td>NaN</td>\n",
       "      <td>NaN</td>\n",
       "      <td>NaN</td>\n",
       "      <td>NaN</td>\n",
       "    </tr>\n",
       "    <tr>\n",
       "      <th>2</th>\n",
       "      <td>9509257</td>\n",
       "      <td>292.0</td>\n",
       "      <td>треска</td>\n",
       "      <td>1155.0</td>\n",
       "      <td>\\N</td>\n",
       "      <td>2022-01-01 01:34:11</td>\n",
       "      <td>NaN</td>\n",
       "      <td>NaN</td>\n",
       "      <td>NaN</td>\n",
       "      <td>NaN</td>\n",
       "    </tr>\n",
       "  </tbody>\n",
       "</table>\n",
       "</div>"
      ],
      "text/plain": [
       "    id_vsd  id_fish  fish_x  volume_x unit_x           date_vsd_x fish_y  \\\n",
       "0  7230988    400.0  минтай   75480.0     \\N  2022-01-01 00:39:56    NaN   \n",
       "1  3420538    400.0  минтай   62586.0     \\N  2022-01-01 01:34:08    NaN   \n",
       "2  9509257    292.0  треска    1155.0     \\N  2022-01-01 01:34:11    NaN   \n",
       "\n",
       "  date_vsd_y  volume_y unit_y  \n",
       "0        NaN       NaN    NaN  \n",
       "1        NaN       NaN    NaN  \n",
       "2        NaN       NaN    NaN  "
      ]
     },
     "execution_count": 140,
     "metadata": {},
     "output_type": "execute_result"
    }
   ],
   "source": [
    "df_ext2_merged[~(df_ext2_merged['volume_x'].isna())].head(3)"
   ]
  },
  {
   "cell_type": "markdown",
   "metadata": {},
   "source": [
    "Fill na from describe dataset, drop unneccesary columns and fillna -1"
   ]
  },
  {
   "cell_type": "code",
   "execution_count": 141,
   "metadata": {},
   "outputs": [
    {
     "data": {
      "text/plain": [
       "3069426"
      ]
     },
     "execution_count": 141,
     "metadata": {},
     "output_type": "execute_result"
    }
   ],
   "source": [
    "if_fish_na = df_ext2_merged['id_fish'].isna()\n",
    "df_ext2_merged.loc[if_fish_na,'fish_x']=df_ext2_merged['fish_y']\n",
    "df_ext2_merged.loc[if_fish_na,'volume_x']=df_ext2_merged['volume_y']\n",
    "df_ext2_merged.loc[if_fish_na,'unit_x']=df_ext2_merged['unit_y']\n",
    "df_ext2_merged.loc[if_fish_na,'date_vsd_x']=df_ext2_merged['date_vsd_y']\n",
    "df_ext2_merged=df_ext2_merged.drop(columns=['fish_y','volume_y','unit_y','date_vsd_y'])\n",
    "len(df_ext2_merged)"
   ]
  },
  {
   "cell_type": "markdown",
   "metadata": {},
   "source": [
    "Now try normalize fish and volume"
   ]
  },
  {
   "cell_type": "code",
   "execution_count": 142,
   "metadata": {},
   "outputs": [
    {
     "data": {
      "text/plain": [
       "array(['\\\\N', 'кг', 'тонна'], dtype=object)"
      ]
     },
     "execution_count": 142,
     "metadata": {},
     "output_type": "execute_result"
    }
   ],
   "source": [
    "df_ext2_merged['unit_x'].unique()"
   ]
  },
  {
   "cell_type": "code",
   "execution_count": 143,
   "metadata": {},
   "outputs": [],
   "source": [
    "df_ext2_merged.loc[df_ext2_merged['unit_x']=='\\\\N','unit_x']='кг'\n",
    "df_ext2_merged.loc[df_ext2_merged['unit_x']=='тонна','volume_x']*=1000"
   ]
  },
  {
   "cell_type": "code",
   "execution_count": 144,
   "metadata": {},
   "outputs": [],
   "source": [
    "fish_class = df_ext2_merged[df_ext2_merged['id_fish']>=0][['id_fish','fish_x']].drop_duplicates()\n",
    "df_ext2_merged=pd.merge(\n",
    "    df_ext2_merged,\n",
    "    fish_class,\n",
    "    on='fish_x',\n",
    "    how='left'\n",
    ")\n",
    "df_ext2_merged.loc[df_ext2_merged['id_fish_x'].isna(),'id_fish_x']=df_ext2_merged['id_fish_y']\n",
    "df_ext2_merged.drop(columns='id_fish_y', inplace=True)"
   ]
  },
  {
   "cell_type": "code",
   "execution_count": 156,
   "metadata": {},
   "outputs": [],
   "source": [
    "top_fish=df_ext2_merged.groupby('fish_x').sum().sort_values('volume_x', ascending=False)"
   ]
  },
  {
   "cell_type": "markdown",
   "metadata": {},
   "source": [
    "Remove records with zero volume"
   ]
  },
  {
   "cell_type": "code",
   "execution_count": 163,
   "metadata": {},
   "outputs": [],
   "source": [
    "df_ext2_merged=df_ext2_merged[~(df_ext2_merged['fish_x'].isin(top_fish[top_fish['volume_x']==0].index))]"
   ]
  },
  {
   "cell_type": "code",
   "execution_count": 178,
   "metadata": {},
   "outputs": [
    {
     "data": {
      "text/html": [
       "<div>\n",
       "<style scoped>\n",
       "    .dataframe tbody tr th:only-of-type {\n",
       "        vertical-align: middle;\n",
       "    }\n",
       "\n",
       "    .dataframe tbody tr th {\n",
       "        vertical-align: top;\n",
       "    }\n",
       "\n",
       "    .dataframe thead th {\n",
       "        text-align: right;\n",
       "    }\n",
       "</style>\n",
       "<table border=\"1\" class=\"dataframe\">\n",
       "  <thead>\n",
       "    <tr style=\"text-align: right;\">\n",
       "      <th></th>\n",
       "      <th>id_vsd</th>\n",
       "      <th>id_fish_x</th>\n",
       "      <th>volume_x</th>\n",
       "    </tr>\n",
       "    <tr>\n",
       "      <th>fish_x</th>\n",
       "      <th></th>\n",
       "      <th></th>\n",
       "      <th></th>\n",
       "    </tr>\n",
       "  </thead>\n",
       "  <tbody>\n",
       "    <tr>\n",
       "      <th>минтай</th>\n",
       "      <td>267038523927</td>\n",
       "      <td>22391600.0</td>\n",
       "      <td>985755865.0</td>\n",
       "    </tr>\n",
       "    <tr>\n",
       "      <th>треска</th>\n",
       "      <td>278833446504</td>\n",
       "      <td>13024022.0</td>\n",
       "      <td>449742126.0</td>\n",
       "    </tr>\n",
       "    <tr>\n",
       "      <th>минтай б/г мороженый</th>\n",
       "      <td>37519436460</td>\n",
       "      <td>0.0</td>\n",
       "      <td>281485109.0</td>\n",
       "    </tr>\n",
       "    <tr>\n",
       "      <th>сельдь тихоокеанская</th>\n",
       "      <td>7213040962</td>\n",
       "      <td>308856.0</td>\n",
       "      <td>179568763.0</td>\n",
       "    </tr>\n",
       "    <tr>\n",
       "      <th>сельдь тихоокеанская н/р мороженая</th>\n",
       "      <td>5745992893</td>\n",
       "      <td>0.0</td>\n",
       "      <td>157704270.0</td>\n",
       "    </tr>\n",
       "    <tr>\n",
       "      <th>путассу (северная)</th>\n",
       "      <td>2809158447</td>\n",
       "      <td>246627.0</td>\n",
       "      <td>85655049.0</td>\n",
       "    </tr>\n",
       "    <tr>\n",
       "      <th>филе минтая мороженое</th>\n",
       "      <td>43838129826</td>\n",
       "      <td>0.0</td>\n",
       "      <td>85229755.0</td>\n",
       "    </tr>\n",
       "    <tr>\n",
       "      <th>пикша мороженая</th>\n",
       "      <td>3170403615</td>\n",
       "      <td>0.0</td>\n",
       "      <td>52233340.0</td>\n",
       "    </tr>\n",
       "    <tr>\n",
       "      <th>минтай н/р мороженый</th>\n",
       "      <td>5321868834</td>\n",
       "      <td>0.0</td>\n",
       "      <td>50878872.0</td>\n",
       "    </tr>\n",
       "    <tr>\n",
       "      <th>минтай мороженый</th>\n",
       "      <td>16820899762</td>\n",
       "      <td>0.0</td>\n",
       "      <td>48889204.0</td>\n",
       "    </tr>\n",
       "  </tbody>\n",
       "</table>\n",
       "</div>"
      ],
      "text/plain": [
       "                                          id_vsd   id_fish_x     volume_x\n",
       "fish_x                                                                   \n",
       "минтай                              267038523927  22391600.0  985755865.0\n",
       "треска                              278833446504  13024022.0  449742126.0\n",
       "минтай б/г мороженый                 37519436460         0.0  281485109.0\n",
       "сельдь тихоокеанская                  7213040962    308856.0  179568763.0\n",
       "сельдь тихоокеанская н/р мороженая    5745992893         0.0  157704270.0\n",
       "путассу (северная)                    2809158447    246627.0   85655049.0\n",
       "филе минтая мороженое                43838129826         0.0   85229755.0\n",
       "пикша мороженая                       3170403615         0.0   52233340.0\n",
       "минтай н/р мороженый                  5321868834         0.0   50878872.0\n",
       "минтай мороженый                     16820899762         0.0   48889204.0"
      ]
     },
     "execution_count": 178,
     "metadata": {},
     "output_type": "execute_result"
    }
   ],
   "source": [
    "top_fish[:10]\n",
    "# todo classify fish by name"
   ]
  },
  {
   "cell_type": "markdown",
   "metadata": {},
   "source": [
    "Merge and dump db2"
   ]
  },
  {
   "cell_type": "code",
   "execution_count": 180,
   "metadata": {},
   "outputs": [],
   "source": [
    "df_db2 = pd.merge(df_ext_merged,df_ext2_merged,on='id_vsd')\n",
    "df_db2.to_csv('db2.csv',index=None)"
   ]
  },
  {
   "cell_type": "code",
   "execution_count": 105,
   "metadata": {},
   "outputs": [],
   "source": [
    "df_db2=pd.read_csv('db2.csv')"
   ]
  },
  {
   "cell_type": "code",
   "execution_count": 106,
   "metadata": {},
   "outputs": [],
   "source": [
    "df_db2['date_delta']=(df_db2['date_vsd_x'].astype('datetime64[ns]')-df_db2['date_fishery_x'].astype('datetime64[ns]')).apply(lambda x: x.seconds//3600)"
   ]
  },
  {
   "cell_type": "code",
   "execution_count": 76,
   "metadata": {},
   "outputs": [
    {
     "data": {
      "text/html": [
       "<div>\n",
       "<style scoped>\n",
       "    .dataframe tbody tr th:only-of-type {\n",
       "        vertical-align: middle;\n",
       "    }\n",
       "\n",
       "    .dataframe tbody tr th {\n",
       "        vertical-align: top;\n",
       "    }\n",
       "\n",
       "    .dataframe thead th {\n",
       "        text-align: right;\n",
       "    }\n",
       "</style>\n",
       "<table border=\"1\" class=\"dataframe\">\n",
       "  <thead>\n",
       "    <tr style=\"text-align: right;\">\n",
       "      <th></th>\n",
       "      <th>id_vsd</th>\n",
       "      <th>id_own</th>\n",
       "      <th>id_fishery</th>\n",
       "      <th>date_fishery_x</th>\n",
       "      <th>id_Plat</th>\n",
       "      <th>Name_Plat</th>\n",
       "      <th>Product_period</th>\n",
       "      <th>Region_Plat</th>\n",
       "      <th>id_fish_x</th>\n",
       "      <th>fish_x</th>\n",
       "      <th>...</th>\n",
       "      <th>unit_x</th>\n",
       "      <th>date_vsd_x</th>\n",
       "      <th>date_delta</th>\n",
       "      <th>hour_vsd</th>\n",
       "      <th>Late Night</th>\n",
       "      <th>Early Morning</th>\n",
       "      <th>Morning</th>\n",
       "      <th>Noon</th>\n",
       "      <th>Eve</th>\n",
       "      <th>Night</th>\n",
       "    </tr>\n",
       "  </thead>\n",
       "  <tbody>\n",
       "    <tr>\n",
       "      <th>0</th>\n",
       "      <td>8745666</td>\n",
       "      <td>6493928.0</td>\n",
       "      <td>2208303.0</td>\n",
       "      <td>2022-05-24 00:00:00</td>\n",
       "      <td>5022636.0</td>\n",
       "      <td>NaN</td>\n",
       "      <td>NaN</td>\n",
       "      <td>NaN</td>\n",
       "      <td>292.0</td>\n",
       "      <td>треска</td>\n",
       "      <td>...</td>\n",
       "      <td>кг</td>\n",
       "      <td>2022-05-24 17:31:35</td>\n",
       "      <td>17</td>\n",
       "      <td>17</td>\n",
       "      <td>0</td>\n",
       "      <td>0</td>\n",
       "      <td>0</td>\n",
       "      <td>0</td>\n",
       "      <td>1</td>\n",
       "      <td>0</td>\n",
       "    </tr>\n",
       "    <tr>\n",
       "      <th>1</th>\n",
       "      <td>8745666</td>\n",
       "      <td>6493928.0</td>\n",
       "      <td>2208303.0</td>\n",
       "      <td>2022-05-24 00:00:00</td>\n",
       "      <td>5022636.0</td>\n",
       "      <td>NaN</td>\n",
       "      <td>NaN</td>\n",
       "      <td>NaN</td>\n",
       "      <td>292.0</td>\n",
       "      <td>треска</td>\n",
       "      <td>...</td>\n",
       "      <td>кг</td>\n",
       "      <td>2022-05-24 17:31:35</td>\n",
       "      <td>17</td>\n",
       "      <td>17</td>\n",
       "      <td>0</td>\n",
       "      <td>0</td>\n",
       "      <td>0</td>\n",
       "      <td>0</td>\n",
       "      <td>1</td>\n",
       "      <td>0</td>\n",
       "    </tr>\n",
       "    <tr>\n",
       "      <th>2</th>\n",
       "      <td>3846313</td>\n",
       "      <td>3846064.0</td>\n",
       "      <td>5538439.0</td>\n",
       "      <td>2022-05-24 00:00:00</td>\n",
       "      <td>839830.0</td>\n",
       "      <td>NaN</td>\n",
       "      <td>NaN</td>\n",
       "      <td>NaN</td>\n",
       "      <td>400.0</td>\n",
       "      <td>минтай</td>\n",
       "      <td>...</td>\n",
       "      <td>кг</td>\n",
       "      <td>2022-05-24 17:31:35</td>\n",
       "      <td>17</td>\n",
       "      <td>17</td>\n",
       "      <td>0</td>\n",
       "      <td>0</td>\n",
       "      <td>0</td>\n",
       "      <td>0</td>\n",
       "      <td>1</td>\n",
       "      <td>0</td>\n",
       "    </tr>\n",
       "    <tr>\n",
       "      <th>3</th>\n",
       "      <td>5215676</td>\n",
       "      <td>3107158.0</td>\n",
       "      <td>8688535.0</td>\n",
       "      <td>2022-05-24 00:00:00</td>\n",
       "      <td>9310751.0</td>\n",
       "      <td>NaN</td>\n",
       "      <td>NaN</td>\n",
       "      <td>NaN</td>\n",
       "      <td>292.0</td>\n",
       "      <td>треска</td>\n",
       "      <td>...</td>\n",
       "      <td>кг</td>\n",
       "      <td>2022-05-24 20:40:39</td>\n",
       "      <td>20</td>\n",
       "      <td>20</td>\n",
       "      <td>0</td>\n",
       "      <td>0</td>\n",
       "      <td>0</td>\n",
       "      <td>0</td>\n",
       "      <td>1</td>\n",
       "      <td>0</td>\n",
       "    </tr>\n",
       "    <tr>\n",
       "      <th>4</th>\n",
       "      <td>5215676</td>\n",
       "      <td>3107158.0</td>\n",
       "      <td>8688535.0</td>\n",
       "      <td>2022-05-24 00:00:00</td>\n",
       "      <td>9310751.0</td>\n",
       "      <td>NaN</td>\n",
       "      <td>NaN</td>\n",
       "      <td>NaN</td>\n",
       "      <td>292.0</td>\n",
       "      <td>треска</td>\n",
       "      <td>...</td>\n",
       "      <td>кг</td>\n",
       "      <td>2022-05-24 20:40:39</td>\n",
       "      <td>20</td>\n",
       "      <td>20</td>\n",
       "      <td>0</td>\n",
       "      <td>0</td>\n",
       "      <td>0</td>\n",
       "      <td>0</td>\n",
       "      <td>1</td>\n",
       "      <td>0</td>\n",
       "    </tr>\n",
       "  </tbody>\n",
       "</table>\n",
       "<p>5 rows × 21 columns</p>\n",
       "</div>"
      ],
      "text/plain": [
       "    id_vsd     id_own  id_fishery       date_fishery_x    id_Plat  Name_Plat  \\\n",
       "0  8745666  6493928.0   2208303.0  2022-05-24 00:00:00  5022636.0        NaN   \n",
       "1  8745666  6493928.0   2208303.0  2022-05-24 00:00:00  5022636.0        NaN   \n",
       "2  3846313  3846064.0   5538439.0  2022-05-24 00:00:00   839830.0        NaN   \n",
       "3  5215676  3107158.0   8688535.0  2022-05-24 00:00:00  9310751.0        NaN   \n",
       "4  5215676  3107158.0   8688535.0  2022-05-24 00:00:00  9310751.0        NaN   \n",
       "\n",
       "  Product_period Region_Plat  id_fish_x  fish_x  ...  unit_x  \\\n",
       "0            NaN         NaN      292.0  треска  ...      кг   \n",
       "1            NaN         NaN      292.0  треска  ...      кг   \n",
       "2            NaN         NaN      400.0  минтай  ...      кг   \n",
       "3            NaN         NaN      292.0  треска  ...      кг   \n",
       "4            NaN         NaN      292.0  треска  ...      кг   \n",
       "\n",
       "            date_vsd_x date_delta  hour_vsd  Late Night  Early Morning  \\\n",
       "0  2022-05-24 17:31:35         17        17           0              0   \n",
       "1  2022-05-24 17:31:35         17        17           0              0   \n",
       "2  2022-05-24 17:31:35         17        17           0              0   \n",
       "3  2022-05-24 20:40:39         20        20           0              0   \n",
       "4  2022-05-24 20:40:39         20        20           0              0   \n",
       "\n",
       "   Morning  Noon  Eve  Night  \n",
       "0        0     0    1      0  \n",
       "1        0     0    1      0  \n",
       "2        0     0    1      0  \n",
       "3        0     0    1      0  \n",
       "4        0     0    1      0  \n",
       "\n",
       "[5 rows x 21 columns]"
      ]
     },
     "execution_count": 76,
     "metadata": {},
     "output_type": "execute_result"
    }
   ],
   "source": [
    "df_db2.head()"
   ]
  },
  {
   "cell_type": "code",
   "execution_count": 113,
   "metadata": {},
   "outputs": [],
   "source": [
    "df_db2['hour_vsd']=df_db2['date_vsd_x'].astype('datetime64[ns]').dt.hour\n",
    "prods = pd.DataFrame({'hour':range(1, 25)})\n",
    "\n",
    "b = [0,4,8,12,16,20,24]\n",
    "l = ['Late Night', 'Early Morning','Morning','Noon','Eve','Night']\n",
    "df_db2['date_session'] = pd.cut(df_db2['hour_vsd'], bins=b, labels=l, include_lowest=True)\n",
    "session_dummies = pd.get_dummies(df_db2['date_session'])\n",
    "df_db2=pd.concat([df_db2.drop(columns=['date_session']),session_dummies],axis=1)"
   ]
  },
  {
   "cell_type": "code",
   "execution_count": 116,
   "metadata": {},
   "outputs": [],
   "source": [
    "df_group = df_db2.groupby('id_fishery').agg({\n",
    "    'id_own':'count',\n",
    "    # 'id_vsd':'count',\n",
    "    # 'id_Plat':'count',\n",
    "    # 'fish_x':'count',\n",
    "    'volume_x': ['mean','min','max','sum'],\n",
    "    'Late Night': 'sum', \n",
    "    'Early Morning': 'sum', \n",
    "    'Morning': 'sum', \n",
    "    'Noon': 'sum', \n",
    "    'Eve': 'sum',\n",
    "    'Night': 'sum',\n",
    "    'date_delta': ['mean','median','min','max']\n",
    "})"
   ]
  },
  {
   "cell_type": "code",
   "execution_count": 117,
   "metadata": {},
   "outputs": [
    {
     "data": {
      "text/html": [
       "<div>\n",
       "<style scoped>\n",
       "    .dataframe tbody tr th:only-of-type {\n",
       "        vertical-align: middle;\n",
       "    }\n",
       "\n",
       "    .dataframe tbody tr th {\n",
       "        vertical-align: top;\n",
       "    }\n",
       "\n",
       "    .dataframe thead tr th {\n",
       "        text-align: left;\n",
       "    }\n",
       "\n",
       "    .dataframe thead tr:last-of-type th {\n",
       "        text-align: right;\n",
       "    }\n",
       "</style>\n",
       "<table border=\"1\" class=\"dataframe\">\n",
       "  <thead>\n",
       "    <tr>\n",
       "      <th></th>\n",
       "      <th>id_own</th>\n",
       "      <th colspan=\"4\" halign=\"left\">volume_x</th>\n",
       "      <th>Late Night</th>\n",
       "      <th>Early Morning</th>\n",
       "      <th>Morning</th>\n",
       "      <th>Noon</th>\n",
       "      <th>Eve</th>\n",
       "      <th>Night</th>\n",
       "      <th colspan=\"4\" halign=\"left\">date_delta</th>\n",
       "    </tr>\n",
       "    <tr>\n",
       "      <th></th>\n",
       "      <th>count</th>\n",
       "      <th>mean</th>\n",
       "      <th>min</th>\n",
       "      <th>max</th>\n",
       "      <th>sum</th>\n",
       "      <th>sum</th>\n",
       "      <th>sum</th>\n",
       "      <th>sum</th>\n",
       "      <th>sum</th>\n",
       "      <th>sum</th>\n",
       "      <th>sum</th>\n",
       "      <th>mean</th>\n",
       "      <th>median</th>\n",
       "      <th>min</th>\n",
       "      <th>max</th>\n",
       "    </tr>\n",
       "    <tr>\n",
       "      <th>id_fishery</th>\n",
       "      <th></th>\n",
       "      <th></th>\n",
       "      <th></th>\n",
       "      <th></th>\n",
       "      <th></th>\n",
       "      <th></th>\n",
       "      <th></th>\n",
       "      <th></th>\n",
       "      <th></th>\n",
       "      <th></th>\n",
       "      <th></th>\n",
       "      <th></th>\n",
       "      <th></th>\n",
       "      <th></th>\n",
       "      <th></th>\n",
       "    </tr>\n",
       "  </thead>\n",
       "  <tbody>\n",
       "    <tr>\n",
       "      <th>33295.0</th>\n",
       "      <td>59</td>\n",
       "      <td>74264.745763</td>\n",
       "      <td>420.0</td>\n",
       "      <td>148200.0</td>\n",
       "      <td>4381620.0</td>\n",
       "      <td>33.0</td>\n",
       "      <td>1.0</td>\n",
       "      <td>1.0</td>\n",
       "      <td>3.0</td>\n",
       "      <td>1</td>\n",
       "      <td>20</td>\n",
       "      <td>5.169492</td>\n",
       "      <td>0.0</td>\n",
       "      <td>0</td>\n",
       "      <td>23</td>\n",
       "    </tr>\n",
       "    <tr>\n",
       "      <th>38529.0</th>\n",
       "      <td>563</td>\n",
       "      <td>2364.088810</td>\n",
       "      <td>35.0</td>\n",
       "      <td>35745.0</td>\n",
       "      <td>1330982.0</td>\n",
       "      <td>518.0</td>\n",
       "      <td>0.0</td>\n",
       "      <td>34.0</td>\n",
       "      <td>11.0</td>\n",
       "      <td>0</td>\n",
       "      <td>0</td>\n",
       "      <td>0.509769</td>\n",
       "      <td>0.0</td>\n",
       "      <td>0</td>\n",
       "      <td>13</td>\n",
       "    </tr>\n",
       "    <tr>\n",
       "      <th>66070.0</th>\n",
       "      <td>55</td>\n",
       "      <td>4723.000000</td>\n",
       "      <td>425.0</td>\n",
       "      <td>21729.0</td>\n",
       "      <td>259765.0</td>\n",
       "      <td>39.0</td>\n",
       "      <td>14.0</td>\n",
       "      <td>2.0</td>\n",
       "      <td>0.0</td>\n",
       "      <td>0</td>\n",
       "      <td>0</td>\n",
       "      <td>0.127273</td>\n",
       "      <td>0.0</td>\n",
       "      <td>0</td>\n",
       "      <td>4</td>\n",
       "    </tr>\n",
       "    <tr>\n",
       "      <th>86689.0</th>\n",
       "      <td>647</td>\n",
       "      <td>5911.440495</td>\n",
       "      <td>1.0</td>\n",
       "      <td>93619.0</td>\n",
       "      <td>3824702.0</td>\n",
       "      <td>610.0</td>\n",
       "      <td>12.0</td>\n",
       "      <td>25.0</td>\n",
       "      <td>0.0</td>\n",
       "      <td>0</td>\n",
       "      <td>0</td>\n",
       "      <td>0.922720</td>\n",
       "      <td>0.0</td>\n",
       "      <td>0</td>\n",
       "      <td>12</td>\n",
       "    </tr>\n",
       "    <tr>\n",
       "      <th>101043.0</th>\n",
       "      <td>554</td>\n",
       "      <td>8357.922383</td>\n",
       "      <td>4.0</td>\n",
       "      <td>94000.0</td>\n",
       "      <td>4630289.0</td>\n",
       "      <td>527.0</td>\n",
       "      <td>8.0</td>\n",
       "      <td>1.0</td>\n",
       "      <td>18.0</td>\n",
       "      <td>0</td>\n",
       "      <td>0</td>\n",
       "      <td>0.851986</td>\n",
       "      <td>0.0</td>\n",
       "      <td>0</td>\n",
       "      <td>13</td>\n",
       "    </tr>\n",
       "    <tr>\n",
       "      <th>...</th>\n",
       "      <td>...</td>\n",
       "      <td>...</td>\n",
       "      <td>...</td>\n",
       "      <td>...</td>\n",
       "      <td>...</td>\n",
       "      <td>...</td>\n",
       "      <td>...</td>\n",
       "      <td>...</td>\n",
       "      <td>...</td>\n",
       "      <td>...</td>\n",
       "      <td>...</td>\n",
       "      <td>...</td>\n",
       "      <td>...</td>\n",
       "      <td>...</td>\n",
       "      <td>...</td>\n",
       "    </tr>\n",
       "    <tr>\n",
       "      <th>9301657.0</th>\n",
       "      <td>306</td>\n",
       "      <td>9952.650327</td>\n",
       "      <td>14.0</td>\n",
       "      <td>23840.0</td>\n",
       "      <td>3045511.0</td>\n",
       "      <td>194.0</td>\n",
       "      <td>2.0</td>\n",
       "      <td>8.0</td>\n",
       "      <td>0.0</td>\n",
       "      <td>0</td>\n",
       "      <td>102</td>\n",
       "      <td>3.173203</td>\n",
       "      <td>0.0</td>\n",
       "      <td>0</td>\n",
       "      <td>23</td>\n",
       "    </tr>\n",
       "    <tr>\n",
       "      <th>9307456.0</th>\n",
       "      <td>6</td>\n",
       "      <td>3992.500000</td>\n",
       "      <td>963.0</td>\n",
       "      <td>6694.0</td>\n",
       "      <td>23955.0</td>\n",
       "      <td>0.0</td>\n",
       "      <td>0.0</td>\n",
       "      <td>6.0</td>\n",
       "      <td>0.0</td>\n",
       "      <td>0</td>\n",
       "      <td>0</td>\n",
       "      <td>11.166667</td>\n",
       "      <td>11.0</td>\n",
       "      <td>11</td>\n",
       "      <td>12</td>\n",
       "    </tr>\n",
       "    <tr>\n",
       "      <th>9380862.0</th>\n",
       "      <td>57</td>\n",
       "      <td>10388.473684</td>\n",
       "      <td>1588.0</td>\n",
       "      <td>16564.0</td>\n",
       "      <td>592143.0</td>\n",
       "      <td>54.0</td>\n",
       "      <td>1.0</td>\n",
       "      <td>2.0</td>\n",
       "      <td>0.0</td>\n",
       "      <td>0</td>\n",
       "      <td>0</td>\n",
       "      <td>1.087719</td>\n",
       "      <td>1.0</td>\n",
       "      <td>0</td>\n",
       "      <td>12</td>\n",
       "    </tr>\n",
       "    <tr>\n",
       "      <th>9472820.0</th>\n",
       "      <td>100</td>\n",
       "      <td>2330.740000</td>\n",
       "      <td>187.0</td>\n",
       "      <td>6060.0</td>\n",
       "      <td>233074.0</td>\n",
       "      <td>95.0</td>\n",
       "      <td>2.0</td>\n",
       "      <td>3.0</td>\n",
       "      <td>0.0</td>\n",
       "      <td>0</td>\n",
       "      <td>0</td>\n",
       "      <td>0.130000</td>\n",
       "      <td>0.0</td>\n",
       "      <td>0</td>\n",
       "      <td>6</td>\n",
       "    </tr>\n",
       "    <tr>\n",
       "      <th>9489364.0</th>\n",
       "      <td>94</td>\n",
       "      <td>102871.414894</td>\n",
       "      <td>10055.0</td>\n",
       "      <td>248184.0</td>\n",
       "      <td>9669913.0</td>\n",
       "      <td>81.0</td>\n",
       "      <td>7.0</td>\n",
       "      <td>1.0</td>\n",
       "      <td>0.0</td>\n",
       "      <td>0</td>\n",
       "      <td>5</td>\n",
       "      <td>0.489362</td>\n",
       "      <td>0.0</td>\n",
       "      <td>0</td>\n",
       "      <td>5</td>\n",
       "    </tr>\n",
       "  </tbody>\n",
       "</table>\n",
       "<p>326 rows × 15 columns</p>\n",
       "</div>"
      ],
      "text/plain": [
       "           id_own       volume_x                               Late Night  \\\n",
       "            count           mean      min       max        sum        sum   \n",
       "id_fishery                                                                  \n",
       "33295.0        59   74264.745763    420.0  148200.0  4381620.0       33.0   \n",
       "38529.0       563    2364.088810     35.0   35745.0  1330982.0      518.0   \n",
       "66070.0        55    4723.000000    425.0   21729.0   259765.0       39.0   \n",
       "86689.0       647    5911.440495      1.0   93619.0  3824702.0      610.0   \n",
       "101043.0      554    8357.922383      4.0   94000.0  4630289.0      527.0   \n",
       "...           ...            ...      ...       ...        ...        ...   \n",
       "9301657.0     306    9952.650327     14.0   23840.0  3045511.0      194.0   \n",
       "9307456.0       6    3992.500000    963.0    6694.0    23955.0        0.0   \n",
       "9380862.0      57   10388.473684   1588.0   16564.0   592143.0       54.0   \n",
       "9472820.0     100    2330.740000    187.0    6060.0   233074.0       95.0   \n",
       "9489364.0      94  102871.414894  10055.0  248184.0  9669913.0       81.0   \n",
       "\n",
       "           Early Morning Morning  Noon Eve Night date_delta                 \n",
       "                     sum     sum   sum sum   sum       mean median min max  \n",
       "id_fishery                                                                  \n",
       "33295.0              1.0     1.0   3.0   1    20   5.169492    0.0   0  23  \n",
       "38529.0              0.0    34.0  11.0   0     0   0.509769    0.0   0  13  \n",
       "66070.0             14.0     2.0   0.0   0     0   0.127273    0.0   0   4  \n",
       "86689.0             12.0    25.0   0.0   0     0   0.922720    0.0   0  12  \n",
       "101043.0             8.0     1.0  18.0   0     0   0.851986    0.0   0  13  \n",
       "...                  ...     ...   ...  ..   ...        ...    ...  ..  ..  \n",
       "9301657.0            2.0     8.0   0.0   0   102   3.173203    0.0   0  23  \n",
       "9307456.0            0.0     6.0   0.0   0     0  11.166667   11.0  11  12  \n",
       "9380862.0            1.0     2.0   0.0   0     0   1.087719    1.0   0  12  \n",
       "9472820.0            2.0     3.0   0.0   0     0   0.130000    0.0   0   6  \n",
       "9489364.0            7.0     1.0   0.0   0     5   0.489362    0.0   0   5  \n",
       "\n",
       "[326 rows x 15 columns]"
      ]
     },
     "execution_count": 117,
     "metadata": {},
     "output_type": "execute_result"
    }
   ],
   "source": [
    "df_group"
   ]
  },
  {
   "cell_type": "code",
   "execution_count": null,
   "metadata": {},
   "outputs": [],
   "source": []
  },
  {
   "cell_type": "code",
   "execution_count": 122,
   "metadata": {},
   "outputs": [],
   "source": [
    "from sklearn import datasets\n",
    "from sklearn.decomposition import PCA\n",
    "import matplotlib.pyplot as plt\n",
    "from sklearn.cluster import KMeans, DBSCAN\n",
    "from sklearn.preprocessing import StandardScaler"
   ]
  },
  {
   "cell_type": "code",
   "execution_count": 123,
   "metadata": {},
   "outputs": [
    {
     "name": "stderr",
     "output_type": "stream",
     "text": [
      "/home/Kirill.Fomenko/.local/lib/python3.8/site-packages/sklearn/utils/validation.py:1675: FutureWarning: Feature names only support names that are all strings. Got feature names with dtypes: ['tuple']. An error will be raised in 1.2.\n",
      "  warnings.warn(\n",
      "/home/Kirill.Fomenko/.local/lib/python3.8/site-packages/sklearn/utils/validation.py:1675: FutureWarning: Feature names only support names that are all strings. Got feature names with dtypes: ['tuple']. An error will be raised in 1.2.\n",
      "  warnings.warn(\n"
     ]
    }
   ],
   "source": [
    "scaler = StandardScaler()\n",
    "X_scale = scaler.fit_transform(df_group)\n"
   ]
  },
  {
   "cell_type": "code",
   "execution_count": 124,
   "metadata": {},
   "outputs": [],
   "source": [
    "pca = PCA (n_components=2)\n",
    "X_reduced = pca.fit_transform(X_scale)"
   ]
  },
  {
   "cell_type": "code",
   "execution_count": 133,
   "metadata": {},
   "outputs": [
    {
     "data": {
      "image/png": "[encoded data removed]",
      "text/plain": [
       "<Figure size 720x504 with 1 Axes>"
      ]
     },
     "metadata": {
      "needs_background": "light"
     },
     "output_type": "display_data"
    }
   ],
   "source": [
    "pred = DBSCAN(eps=1.6, min_samples=2).fit_predict(X_reduced)\n",
    "\n",
    "plt.figure(figsize = (10,7))\n",
    "plt.scatter(X_reduced[:,0],X_reduced[:,1], c=pred)\n",
    "plt.show()"
   ]
  },
  {
   "cell_type": "code",
   "execution_count": null,
   "metadata": {},
   "outputs": [],
   "source": []
  },
  {
   "cell_type": "code",
   "execution_count": 134,
   "metadata": {},
   "outputs": [
    {
     "data": {
      "image/png": "[encoded data removed]",
      "text/plain": [
       "<Figure size 720x504 with 1 Axes>"
      ]
     },
     "metadata": {
      "needs_background": "light"
     },
     "output_type": "display_data"
    }
   ],
   "source": [
    "pca = PCA (n_components=3)\n",
    "X_reduced = pca.fit_transform(X_scale)\n",
    "\n",
    "pred = DBSCAN(eps=1.9, min_samples=2).fit_predict(X_reduced)\n",
    "\n",
    "fig = plt.figure(figsize = (10,7))\n",
    "ax = fig.add_subplot(projection=\"3d\")\n",
    "x,y,z = [X_reduced[:,i] for i in range(3)]\n",
    "ax.scatter(x,y,z, c=pred)\n",
    "plt.show()"
   ]
  }
 ],
 "metadata": {
  "interpreter": {
   "hash": "916dbcbb3f70747c44a77c7bcd40155683ae19c65e1c03b4aa3499c5328201f1"
  },
  "kernelspec": {
   "display_name": "Python 3.8.10 64-bit",
   "language": "python",
   "name": "python3"
  },
  "language_info": {
   "codemirror_mode": {
    "name": "ipython",
    "version": 3
   },
   "file_extension": ".py",
   "mimetype": "text/x-python",
   "name": "python",
   "nbconvert_exporter": "python",
   "pygments_lexer": "ipython3",
   "version": "3.8.10"
  },
  "orig_nbformat": 4
 },
 "nbformat": 4,
 "nbformat_minor": 2
}
