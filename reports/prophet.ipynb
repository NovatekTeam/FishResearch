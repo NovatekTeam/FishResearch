{
  "cells": [
    {
      "cell_type": "code",
      "execution_count": 29,
      "metadata": {},
      "outputs": [],
      "source": [
        "import numpy as np\n",
        "import pandas as pd\n",
        "from matplotlib import pyplot as plt\n",
        "from sklearn.preprocessing import StandardScaler\n",
        "from fbprophet import Prophet\n",
        "from plotly import graph_objs as go\n",
        "from plotly.offline import init_notebook_mode, iplot, plot\n",
        "from IPython.display import display, IFrame\n",
        "from scipy import stats"
      ]
    },
    {
      "cell_type": "code",
      "execution_count": 4,
      "metadata": {},
      "outputs": [],
      "source": [
        "df_catch = pd.read_csv('/home/savin/Documents/DEV/dataset_fish/Датасет/with_same_ship_ids_between_db/db1/catch.csv')"
      ]
    },
    {
      "cell_type": "code",
      "execution_count": 5,
      "metadata": {},
      "outputs": [
        {
          "data": {
            "text/html": [
              "<div>\n",
              "<style scoped>\n",
              "    .dataframe tbody tr th:only-of-type {\n",
              "        vertical-align: middle;\n",
              "    }\n",
              "\n",
              "    .dataframe tbody tr th {\n",
              "        vertical-align: top;\n",
              "    }\n",
              "\n",
              "    .dataframe thead th {\n",
              "        text-align: right;\n",
              "    }\n",
              "</style>\n",
              "<table border=\"1\" class=\"dataframe\">\n",
              "  <thead>\n",
              "    <tr style=\"text-align: right;\">\n",
              "      <th></th>\n",
              "      <th>id_ves</th>\n",
              "      <th>date</th>\n",
              "      <th>id_region</th>\n",
              "      <th>id_fish</th>\n",
              "      <th>catch_volume</th>\n",
              "      <th>id_regime</th>\n",
              "      <th>permit</th>\n",
              "      <th>id_own</th>\n",
              "    </tr>\n",
              "  </thead>\n",
              "  <tbody>\n",
              "    <tr>\n",
              "      <th>0</th>\n",
              "      <td>1628</td>\n",
              "      <td>2022-01-01</td>\n",
              "      <td>272</td>\n",
              "      <td>400</td>\n",
              "      <td>31.874</td>\n",
              "      <td>41</td>\n",
              "      <td>2824</td>\n",
              "      <td>961</td>\n",
              "    </tr>\n",
              "    <tr>\n",
              "      <th>1</th>\n",
              "      <td>70</td>\n",
              "      <td>2022-01-01</td>\n",
              "      <td>277</td>\n",
              "      <td>886</td>\n",
              "      <td>0.476</td>\n",
              "      <td>1</td>\n",
              "      <td>2414</td>\n",
              "      <td>1281</td>\n",
              "    </tr>\n",
              "    <tr>\n",
              "      <th>2</th>\n",
              "      <td>1608</td>\n",
              "      <td>2022-01-01</td>\n",
              "      <td>116</td>\n",
              "      <td>409</td>\n",
              "      <td>26.310</td>\n",
              "      <td>15</td>\n",
              "      <td>3031</td>\n",
              "      <td>1227</td>\n",
              "    </tr>\n",
              "    <tr>\n",
              "      <th>3</th>\n",
              "      <td>832</td>\n",
              "      <td>2022-01-01</td>\n",
              "      <td>272</td>\n",
              "      <td>292</td>\n",
              "      <td>9.541</td>\n",
              "      <td>1</td>\n",
              "      <td>1894</td>\n",
              "      <td>1281</td>\n",
              "    </tr>\n",
              "    <tr>\n",
              "      <th>4</th>\n",
              "      <td>832</td>\n",
              "      <td>2022-01-01</td>\n",
              "      <td>272</td>\n",
              "      <td>113</td>\n",
              "      <td>0.062</td>\n",
              "      <td>1</td>\n",
              "      <td>1894</td>\n",
              "      <td>1281</td>\n",
              "    </tr>\n",
              "  </tbody>\n",
              "</table>\n",
              "</div>"
            ],
            "text/plain": [
              "   id_ves        date  id_region  id_fish  catch_volume  id_regime  permit  \\\n",
              "0    1628  2022-01-01        272      400        31.874         41    2824   \n",
              "1      70  2022-01-01        277      886         0.476          1    2414   \n",
              "2    1608  2022-01-01        116      409        26.310         15    3031   \n",
              "3     832  2022-01-01        272      292         9.541          1    1894   \n",
              "4     832  2022-01-01        272      113         0.062          1    1894   \n",
              "\n",
              "   id_own  \n",
              "0     961  \n",
              "1    1281  \n",
              "2    1227  \n",
              "3    1281  \n",
              "4    1281  "
            ]
          },
          "execution_count": 5,
          "metadata": {},
          "output_type": "execute_result"
        }
      ],
      "source": [
        "df_catch.head()"
      ]
    },
    {
      "cell_type": "code",
      "execution_count": 7,
      "metadata": {},
      "outputs": [
        {
          "data": {
            "text/html": [
              "<div>\n",
              "<style scoped>\n",
              "    .dataframe tbody tr th:only-of-type {\n",
              "        vertical-align: middle;\n",
              "    }\n",
              "\n",
              "    .dataframe tbody tr th {\n",
              "        vertical-align: top;\n",
              "    }\n",
              "\n",
              "    .dataframe thead th {\n",
              "        text-align: right;\n",
              "    }\n",
              "</style>\n",
              "<table border=\"1\" class=\"dataframe\">\n",
              "  <thead>\n",
              "    <tr style=\"text-align: right;\">\n",
              "      <th></th>\n",
              "      <th>961</th>\n",
              "      <th>1281</th>\n",
              "      <th>1227</th>\n",
              "      <th>1011</th>\n",
              "      <th>1219</th>\n",
              "      <th>942</th>\n",
              "      <th>984</th>\n",
              "      <th>951</th>\n",
              "      <th>1164</th>\n",
              "      <th>1091</th>\n",
              "      <th>...</th>\n",
              "      <th>1044</th>\n",
              "      <th>1259</th>\n",
              "      <th>996</th>\n",
              "      <th>1280</th>\n",
              "      <th>1045</th>\n",
              "      <th>1399</th>\n",
              "      <th>1129</th>\n",
              "      <th>1004</th>\n",
              "      <th>954</th>\n",
              "      <th>1101</th>\n",
              "    </tr>\n",
              "    <tr>\n",
              "      <th>date</th>\n",
              "      <th></th>\n",
              "      <th></th>\n",
              "      <th></th>\n",
              "      <th></th>\n",
              "      <th></th>\n",
              "      <th></th>\n",
              "      <th></th>\n",
              "      <th></th>\n",
              "      <th></th>\n",
              "      <th></th>\n",
              "      <th></th>\n",
              "      <th></th>\n",
              "      <th></th>\n",
              "      <th></th>\n",
              "      <th></th>\n",
              "      <th></th>\n",
              "      <th></th>\n",
              "      <th></th>\n",
              "      <th></th>\n",
              "      <th></th>\n",
              "      <th></th>\n",
              "    </tr>\n",
              "  </thead>\n",
              "  <tbody>\n",
              "    <tr>\n",
              "      <th>2022-01-01</th>\n",
              "      <td>31.874</td>\n",
              "      <td>77.870</td>\n",
              "      <td>26.31</td>\n",
              "      <td>230.705</td>\n",
              "      <td>336.914</td>\n",
              "      <td>59.087</td>\n",
              "      <td>12.196</td>\n",
              "      <td>94.889</td>\n",
              "      <td>61.787</td>\n",
              "      <td>79.956</td>\n",
              "      <td>...</td>\n",
              "      <td>NaN</td>\n",
              "      <td>NaN</td>\n",
              "      <td>NaN</td>\n",
              "      <td>NaN</td>\n",
              "      <td>NaN</td>\n",
              "      <td>NaN</td>\n",
              "      <td>NaN</td>\n",
              "      <td>NaN</td>\n",
              "      <td>NaN</td>\n",
              "      <td>NaN</td>\n",
              "    </tr>\n",
              "    <tr>\n",
              "      <th>2022-01-02</th>\n",
              "      <td>169.866</td>\n",
              "      <td>93.250</td>\n",
              "      <td>NaN</td>\n",
              "      <td>593.726</td>\n",
              "      <td>NaN</td>\n",
              "      <td>105.141</td>\n",
              "      <td>NaN</td>\n",
              "      <td>268.387</td>\n",
              "      <td>47.167</td>\n",
              "      <td>224.484</td>\n",
              "      <td>...</td>\n",
              "      <td>NaN</td>\n",
              "      <td>NaN</td>\n",
              "      <td>NaN</td>\n",
              "      <td>NaN</td>\n",
              "      <td>NaN</td>\n",
              "      <td>NaN</td>\n",
              "      <td>NaN</td>\n",
              "      <td>NaN</td>\n",
              "      <td>NaN</td>\n",
              "      <td>NaN</td>\n",
              "    </tr>\n",
              "    <tr>\n",
              "      <th>2022-01-03</th>\n",
              "      <td>577.346</td>\n",
              "      <td>89.951</td>\n",
              "      <td>34.56</td>\n",
              "      <td>628.579</td>\n",
              "      <td>NaN</td>\n",
              "      <td>142.241</td>\n",
              "      <td>NaN</td>\n",
              "      <td>245.295</td>\n",
              "      <td>120.646</td>\n",
              "      <td>162.778</td>\n",
              "      <td>...</td>\n",
              "      <td>NaN</td>\n",
              "      <td>NaN</td>\n",
              "      <td>NaN</td>\n",
              "      <td>NaN</td>\n",
              "      <td>NaN</td>\n",
              "      <td>NaN</td>\n",
              "      <td>NaN</td>\n",
              "      <td>NaN</td>\n",
              "      <td>NaN</td>\n",
              "      <td>NaN</td>\n",
              "    </tr>\n",
              "    <tr>\n",
              "      <th>2022-01-04</th>\n",
              "      <td>663.930</td>\n",
              "      <td>75.758</td>\n",
              "      <td>NaN</td>\n",
              "      <td>259.477</td>\n",
              "      <td>NaN</td>\n",
              "      <td>86.626</td>\n",
              "      <td>NaN</td>\n",
              "      <td>147.306</td>\n",
              "      <td>328.844</td>\n",
              "      <td>204.438</td>\n",
              "      <td>...</td>\n",
              "      <td>NaN</td>\n",
              "      <td>NaN</td>\n",
              "      <td>NaN</td>\n",
              "      <td>NaN</td>\n",
              "      <td>NaN</td>\n",
              "      <td>NaN</td>\n",
              "      <td>NaN</td>\n",
              "      <td>NaN</td>\n",
              "      <td>NaN</td>\n",
              "      <td>NaN</td>\n",
              "    </tr>\n",
              "    <tr>\n",
              "      <th>2022-01-05</th>\n",
              "      <td>345.875</td>\n",
              "      <td>47.301</td>\n",
              "      <td>NaN</td>\n",
              "      <td>482.655</td>\n",
              "      <td>NaN</td>\n",
              "      <td>136.666</td>\n",
              "      <td>NaN</td>\n",
              "      <td>177.678</td>\n",
              "      <td>152.780</td>\n",
              "      <td>86.839</td>\n",
              "      <td>...</td>\n",
              "      <td>NaN</td>\n",
              "      <td>NaN</td>\n",
              "      <td>NaN</td>\n",
              "      <td>NaN</td>\n",
              "      <td>NaN</td>\n",
              "      <td>NaN</td>\n",
              "      <td>NaN</td>\n",
              "      <td>NaN</td>\n",
              "      <td>NaN</td>\n",
              "      <td>NaN</td>\n",
              "    </tr>\n",
              "  </tbody>\n",
              "</table>\n",
              "<p>5 rows × 350 columns</p>\n",
              "</div>"
            ],
            "text/plain": [
              "                961    1281   1227     1011     1219      942     984  \\\n",
              "date                                                                    \n",
              "2022-01-01   31.874  77.870  26.31  230.705  336.914   59.087  12.196   \n",
              "2022-01-02  169.866  93.250    NaN  593.726      NaN  105.141     NaN   \n",
              "2022-01-03  577.346  89.951  34.56  628.579      NaN  142.241     NaN   \n",
              "2022-01-04  663.930  75.758    NaN  259.477      NaN   86.626     NaN   \n",
              "2022-01-05  345.875  47.301    NaN  482.655      NaN  136.666     NaN   \n",
              "\n",
              "                951     1164     1091  ...  1044  1259  996  1280  1045  1399  \\\n",
              "date                                   ...                                      \n",
              "2022-01-01   94.889   61.787   79.956  ...   NaN   NaN  NaN   NaN   NaN   NaN   \n",
              "2022-01-02  268.387   47.167  224.484  ...   NaN   NaN  NaN   NaN   NaN   NaN   \n",
              "2022-01-03  245.295  120.646  162.778  ...   NaN   NaN  NaN   NaN   NaN   NaN   \n",
              "2022-01-04  147.306  328.844  204.438  ...   NaN   NaN  NaN   NaN   NaN   NaN   \n",
              "2022-01-05  177.678  152.780   86.839  ...   NaN   NaN  NaN   NaN   NaN   NaN   \n",
              "\n",
              "            1129  1004  954  1101  \n",
              "date                               \n",
              "2022-01-01   NaN   NaN  NaN   NaN  \n",
              "2022-01-02   NaN   NaN  NaN   NaN  \n",
              "2022-01-03   NaN   NaN  NaN   NaN  \n",
              "2022-01-04   NaN   NaN  NaN   NaN  \n",
              "2022-01-05   NaN   NaN  NaN   NaN  \n",
              "\n",
              "[5 rows x 350 columns]"
            ]
          },
          "execution_count": 7,
          "metadata": {},
          "output_type": "execute_result"
        }
      ],
      "source": [
        "id_own = pd.Series(df_catch['id_own']).unique()\n",
        "rate_own = pd.DataFrame()\n",
        "for el in id_own:\n",
        "    aggr_df = df_catch.loc[df_catch['id_own']==el].groupby(\"date\")[[\"catch_volume\"]].sum()\n",
        "    aggr_df.columns = [f\"{el}\"]\n",
        "    rate_own = pd.concat([rate_own, aggr_df], axis=1)\n",
        "rate_own.head()"
      ]
    },
    {
      "cell_type": "code",
      "execution_count": 34,
      "metadata": {},
      "outputs": [
        {
          "name": "stderr",
          "output_type": "stream",
          "text": [
            "INFO:fbprophet:Disabling yearly seasonality. Run prophet with yearly_seasonality=True to override this.\n",
            "INFO:fbprophet:Disabling daily seasonality. Run prophet with daily_seasonality=True to override this.\n",
            "/home/savin/.local/lib/python3.8/site-packages/fbprophet/forecaster.py:891: FutureWarning:\n",
            "\n",
            "The frame.append method is deprecated and will be removed from pandas in a future version. Use pandas.concat instead.\n",
            "\n"
          ]
        },
        {
          "name": "stdout",
          "output_type": "stream",
          "text": [
            "\n",
            "Initial log joint probability = -45.6551\n",
            "Iteration  1. Log joint probability =    47.7614. Improved by 93.4165.\n",
            "Iteration  2. Log joint probability =    91.6002. Improved by 43.8388.\n",
            "Iteration  3. Log joint probability =    102.261. Improved by 10.6611.\n",
            "Iteration  4. Log joint probability =     102.39. Improved by 0.128519.\n",
            "Iteration  5. Log joint probability =    102.393. Improved by 0.00324468.\n",
            "Iteration  6. Log joint probability =    102.474. Improved by 0.0810317.\n",
            "Iteration  7. Log joint probability =    102.475. Improved by 0.000901555.\n",
            "Iteration  8. Log joint probability =    102.479. Improved by 0.00407291.\n",
            "Iteration  9. Log joint probability =     102.48. Improved by 0.000974171.\n",
            "Iteration 10. Log joint probability =    102.506. Improved by 0.0255007.\n",
            "Iteration 11. Log joint probability =    102.511. Improved by 0.0051864.\n",
            "Iteration 12. Log joint probability =     102.52. Improved by 0.00935493.\n",
            "Iteration 13. Log joint probability =    102.523. Improved by 0.00268734.\n",
            "Iteration 14. Log joint probability =    102.523. Improved by 5.48131e-07.\n",
            "Iteration 15. Log joint probability =    102.523. Improved by 0.000324216.\n",
            "Iteration 16. Log joint probability =    102.526. Improved by 0.00309156.\n",
            "Iteration 17. Log joint probability =    102.526. Improved by 0.000206999.\n",
            "Iteration 18. Log joint probability =    102.528. Improved by 0.00134654.\n",
            "Iteration 19. Log joint probability =    102.528. Improved by 0.00072213.\n",
            "Iteration 20. Log joint probability =    102.529. Improved by 0.000306653.\n",
            "Iteration 21. Log joint probability =    102.529. Improved by 0.000100823.\n",
            "Iteration 22. Log joint probability =    102.529. Improved by 7.06652e-06.\n",
            "Iteration 23. Log joint probability =    102.529. Improved by 0.000149897.\n",
            "Iteration 24. Log joint probability =    102.529. Improved by 4.88781e-05.\n",
            "Iteration 25. Log joint probability =    102.529. Improved by 9.43123e-05.\n",
            "Iteration 26. Log joint probability =    102.529. Improved by 3.98054e-05.\n",
            "Iteration 27. Log joint probability =    102.529. Improved by 3.55263e-06.\n",
            "Iteration 28. Log joint probability =    102.529. Improved by 2.30219e-05.\n",
            "Iteration 29. Log joint probability =    102.529. Improved by 9.96779e-06.\n",
            "Iteration 30. Log joint probability =    102.529. Improved by 2.3912e-06.\n",
            "Iteration 31. Log joint probability =    102.529. Improved by 4.51318e-06.\n",
            "Iteration 32. Log joint probability =    102.529. Improved by 1.29552e-06.\n",
            "Iteration 33. Log joint probability =    102.529. Improved by 2.23448e-06.\n",
            "Iteration 34. Log joint probability =    102.529. Improved by 3.84621e-07.\n",
            "Iteration 35. Log joint probability =    102.529. Improved by 1.21469e-09.\n"
          ]
        },
        {
          "name": "stderr",
          "output_type": "stream",
          "text": [
            "/home/savin/.local/lib/python3.8/site-packages/fbprophet/forecaster.py:891: FutureWarning:\n",
            "\n",
            "The frame.append method is deprecated and will be removed from pandas in a future version. Use pandas.concat instead.\n",
            "\n",
            "/home/savin/.local/lib/python3.8/site-packages/fbprophet/forecaster.py:891: FutureWarning:\n",
            "\n",
            "The frame.append method is deprecated and will be removed from pandas in a future version. Use pandas.concat instead.\n",
            "\n"
          ]
        },
        {
          "data": {
            "text/html": [
              "<div>\n",
              "<style scoped>\n",
              "    .dataframe tbody tr th:only-of-type {\n",
              "        vertical-align: middle;\n",
              "    }\n",
              "\n",
              "    .dataframe tbody tr th {\n",
              "        vertical-align: top;\n",
              "    }\n",
              "\n",
              "    .dataframe thead th {\n",
              "        text-align: right;\n",
              "    }\n",
              "</style>\n",
              "<table border=\"1\" class=\"dataframe\">\n",
              "  <thead>\n",
              "    <tr style=\"text-align: right;\">\n",
              "      <th></th>\n",
              "      <th>ds</th>\n",
              "      <th>trend</th>\n",
              "      <th>yhat_lower</th>\n",
              "      <th>yhat_upper</th>\n",
              "      <th>trend_lower</th>\n",
              "      <th>trend_upper</th>\n",
              "      <th>additive_terms</th>\n",
              "      <th>additive_terms_lower</th>\n",
              "      <th>additive_terms_upper</th>\n",
              "      <th>weekly</th>\n",
              "      <th>weekly_lower</th>\n",
              "      <th>weekly_upper</th>\n",
              "      <th>multiplicative_terms</th>\n",
              "      <th>multiplicative_terms_lower</th>\n",
              "      <th>multiplicative_terms_upper</th>\n",
              "      <th>yhat</th>\n",
              "    </tr>\n",
              "  </thead>\n",
              "  <tbody>\n",
              "    <tr>\n",
              "      <th>106</th>\n",
              "      <td>2022-04-18</td>\n",
              "      <td>759.759158</td>\n",
              "      <td>420.404248</td>\n",
              "      <td>1079.271478</td>\n",
              "      <td>759.759133</td>\n",
              "      <td>759.759184</td>\n",
              "      <td>-11.183199</td>\n",
              "      <td>-11.183199</td>\n",
              "      <td>-11.183199</td>\n",
              "      <td>-11.183199</td>\n",
              "      <td>-11.183199</td>\n",
              "      <td>-11.183199</td>\n",
              "      <td>0.0</td>\n",
              "      <td>0.0</td>\n",
              "      <td>0.0</td>\n",
              "      <td>748.575959</td>\n",
              "    </tr>\n",
              "    <tr>\n",
              "      <th>107</th>\n",
              "      <td>2022-04-19</td>\n",
              "      <td>761.710330</td>\n",
              "      <td>389.738536</td>\n",
              "      <td>1039.140231</td>\n",
              "      <td>761.710304</td>\n",
              "      <td>761.710357</td>\n",
              "      <td>-44.355094</td>\n",
              "      <td>-44.355094</td>\n",
              "      <td>-44.355094</td>\n",
              "      <td>-44.355094</td>\n",
              "      <td>-44.355094</td>\n",
              "      <td>-44.355094</td>\n",
              "      <td>0.0</td>\n",
              "      <td>0.0</td>\n",
              "      <td>0.0</td>\n",
              "      <td>717.355236</td>\n",
              "    </tr>\n",
              "    <tr>\n",
              "      <th>108</th>\n",
              "      <td>2022-04-20</td>\n",
              "      <td>763.661502</td>\n",
              "      <td>477.733153</td>\n",
              "      <td>1155.248301</td>\n",
              "      <td>763.661475</td>\n",
              "      <td>763.661531</td>\n",
              "      <td>52.224503</td>\n",
              "      <td>52.224503</td>\n",
              "      <td>52.224503</td>\n",
              "      <td>52.224503</td>\n",
              "      <td>52.224503</td>\n",
              "      <td>52.224503</td>\n",
              "      <td>0.0</td>\n",
              "      <td>0.0</td>\n",
              "      <td>0.0</td>\n",
              "      <td>815.886005</td>\n",
              "    </tr>\n",
              "  </tbody>\n",
              "</table>\n",
              "</div>"
            ],
            "text/plain": [
              "            ds       trend  yhat_lower   yhat_upper  trend_lower  trend_upper  \\\n",
              "106 2022-04-18  759.759158  420.404248  1079.271478   759.759133   759.759184   \n",
              "107 2022-04-19  761.710330  389.738536  1039.140231   761.710304   761.710357   \n",
              "108 2022-04-20  763.661502  477.733153  1155.248301   763.661475   763.661531   \n",
              "\n",
              "     additive_terms  additive_terms_lower  additive_terms_upper     weekly  \\\n",
              "106      -11.183199            -11.183199            -11.183199 -11.183199   \n",
              "107      -44.355094            -44.355094            -44.355094 -44.355094   \n",
              "108       52.224503             52.224503             52.224503  52.224503   \n",
              "\n",
              "     weekly_lower  weekly_upper  multiplicative_terms  \\\n",
              "106    -11.183199    -11.183199                   0.0   \n",
              "107    -44.355094    -44.355094                   0.0   \n",
              "108     52.224503     52.224503                   0.0   \n",
              "\n",
              "     multiplicative_terms_lower  multiplicative_terms_upper        yhat  \n",
              "106                         0.0                         0.0  748.575959  \n",
              "107                         0.0                         0.0  717.355236  \n",
              "108                         0.0                         0.0  815.886005  "
            ]
          },
          "execution_count": 34,
          "metadata": {},
          "output_type": "execute_result"
        }
      ],
      "source": [
        "df = rate_own['961'].dropna().reset_index()\n",
        "df.columns = [\"ds\", \"y\"]\n",
        "prediction_size = 30\n",
        "train_df = df[:-prediction_size]\n",
        "m = Prophet()\n",
        "m.fit(train_df)\n",
        "future = m.make_future_dataframe(periods=prediction_size)\n",
        "forecast = m.predict(future)\n",
        "forecast.tail(n=3)"
      ]
    },
    {
      "cell_type": "code",
      "execution_count": 19,
      "metadata": {},
      "outputs": [
        {
          "data": {
            "image/png": "[encoded data removed]",
            "text/plain": [
              "<Figure size 720x432 with 1 Axes>"
            ]
          },
          "execution_count": 19,
          "metadata": {},
          "output_type": "execute_result"
        },
        {
          "data": {
            "image/png": "[encoded data removed]",
            "text/plain": [
              "<Figure size 720x432 with 1 Axes>"
            ]
          },
          "metadata": {},
          "output_type": "display_data"
        }
      ],
      "source": [
        "m.plot(forecast)"
      ]
    },
    {
      "cell_type": "code",
      "execution_count": 54,
      "metadata": {},
      "outputs": [],
      "source": [
        "def make_comparison_dataframe(historical, forecast):\n",
        "    \"\"\"Join the history with the forecast.\n",
        "\n",
        "       The resulting dataset will contain columns 'yhat', 'yhat_lower', 'yhat_upper' and 'y'.\n",
        "    \"\"\"\n",
        "    return forecast.set_index(\"ds\")[[\"yhat\", \"yhat_lower\", \"yhat_upper\"]].join(\n",
        "        historical.set_index(\"ds\"),\n",
        "    )"
      ]
    },
    {
      "cell_type": "code",
      "execution_count": 55,
      "metadata": {},
      "outputs": [
        {
          "data": {
            "text/html": [
              "<div>\n",
              "<style scoped>\n",
              "    .dataframe tbody tr th:only-of-type {\n",
              "        vertical-align: middle;\n",
              "    }\n",
              "\n",
              "    .dataframe tbody tr th {\n",
              "        vertical-align: top;\n",
              "    }\n",
              "\n",
              "    .dataframe thead th {\n",
              "        text-align: right;\n",
              "    }\n",
              "</style>\n",
              "<table border=\"1\" class=\"dataframe\">\n",
              "  <thead>\n",
              "    <tr style=\"text-align: right;\">\n",
              "      <th></th>\n",
              "      <th>yhat</th>\n",
              "      <th>yhat_lower</th>\n",
              "      <th>yhat_upper</th>\n",
              "      <th>y</th>\n",
              "    </tr>\n",
              "    <tr>\n",
              "      <th>ds</th>\n",
              "      <th></th>\n",
              "      <th></th>\n",
              "      <th></th>\n",
              "      <th></th>\n",
              "    </tr>\n",
              "  </thead>\n",
              "  <tbody>\n",
              "    <tr>\n",
              "      <th>2022-04-18 00:00:00</th>\n",
              "      <td>748.575959</td>\n",
              "      <td>420.404248</td>\n",
              "      <td>1079.271478</td>\n",
              "      <td>NaN</td>\n",
              "    </tr>\n",
              "    <tr>\n",
              "      <th>2022-04-19 00:00:00</th>\n",
              "      <td>717.355236</td>\n",
              "      <td>389.738536</td>\n",
              "      <td>1039.140231</td>\n",
              "      <td>NaN</td>\n",
              "    </tr>\n",
              "    <tr>\n",
              "      <th>2022-04-20 00:00:00</th>\n",
              "      <td>815.886005</td>\n",
              "      <td>477.733153</td>\n",
              "      <td>1155.248301</td>\n",
              "      <td>NaN</td>\n",
              "    </tr>\n",
              "  </tbody>\n",
              "</table>\n",
              "</div>"
            ],
            "text/plain": [
              "                           yhat  yhat_lower   yhat_upper   y\n",
              "ds                                                          \n",
              "2022-04-18 00:00:00  748.575959  420.404248  1079.271478 NaN\n",
              "2022-04-19 00:00:00  717.355236  389.738536  1039.140231 NaN\n",
              "2022-04-20 00:00:00  815.886005  477.733153  1155.248301 NaN"
            ]
          },
          "execution_count": 55,
          "metadata": {},
          "output_type": "execute_result"
        }
      ],
      "source": [
        "cmp_df = make_comparison_dataframe(df, forecast)\n",
        "cmp_df.tail(n=3)"
      ]
    },
    {
      "cell_type": "code",
      "execution_count": 22,
      "metadata": {},
      "outputs": [],
      "source": [
        "def calculate_forecast_errors(df, prediction_size):\n",
        "    \"\"\"Calculate MAPE and MAE of the forecast.\n",
        "\n",
        "       Args:\n",
        "           df: joined dataset with 'y' and 'yhat' columns.\n",
        "           prediction_size: number of days at the end to predict.\n",
        "    \"\"\"\n",
        "\n",
        "    # Make a copy\n",
        "    df = df.copy()\n",
        "\n",
        "    # Now we calculate the values of e_i and p_i according to the formulas given in the article above.\n",
        "    df[\"e\"] = df[\"y\"] - df[\"yhat\"]\n",
        "    df[\"p\"] = 100 * df[\"e\"] / df[\"y\"]\n",
        "\n",
        "    # Recall that we held out the values of the last `prediction_size` days\n",
        "    # in order to predict them and measure the quality of the model.\n",
        "\n",
        "    # Now cut out the part of the data which we made our prediction for.\n",
        "    predicted_part = df[-prediction_size:]\n",
        "\n",
        "    # Define the function that averages absolute error values over the predicted part.\n",
        "    error_mean = lambda error_name: np.mean(np.abs(predicted_part[error_name]))\n",
        "\n",
        "    # Now we can calculate MAPE and MAE and return the resulting dictionary of errors.\n",
        "    return {\"MAPE\": error_mean(\"p\"), \"MAE\": error_mean(\"e\")}"
      ]
    },
    {
      "cell_type": "code",
      "execution_count": 23,
      "metadata": {},
      "outputs": [
        {
          "name": "stdout",
          "output_type": "stream",
          "text": [
            "MAPE nan\n",
            "MAE nan\n"
          ]
        }
      ],
      "source": [
        "for err_name, err_value in calculate_forecast_errors(cmp_df, prediction_size).items():\n",
        "    print(err_name, err_value)"
      ]
    },
    {
      "cell_type": "code",
      "execution_count": 25,
      "metadata": {},
      "outputs": [
        {
          "data": {
            "text/html": [
              "\n",
              "        <iframe\n",
              "            width=\"800\"\n",
              "            height=\"500\"\n",
              "            src=\"/home/savin/Documents/DEV/dataset_fish/Датасет/with_same_ship_ids_between_db/New_posts_on_Medium.html\"\n",
              "            frameborder=\"0\"\n",
              "            allowfullscreen\n",
              "            \n",
              "        ></iframe>\n",
              "        "
            ],
            "text/plain": [
              "<IPython.lib.display.IFrame at 0x7f99b3254f10>"
            ]
          },
          "metadata": {},
          "output_type": "display_data"
        }
      ],
      "source": [
        "def show_forecast(cmp_df, num_predictions, num_values, title, width=800, height=500):\n",
        "    \"\"\"Visualize the forecast.\"\"\"\n",
        "\n",
        "    def create_go(name, column, num, **kwargs):\n",
        "        points = cmp_df.tail(num)\n",
        "        args = dict(name=name, x=points.index, y=points[column], mode=\"lines\")\n",
        "        args.update(kwargs)\n",
        "        return go.Scatter(**args)\n",
        "\n",
        "    lower_bound = create_go(\n",
        "        \"Lower Bound\",\n",
        "        \"yhat_lower\",\n",
        "        num_predictions,\n",
        "        line=dict(width=0),\n",
        "        marker=dict(color=\"gray\"),\n",
        "    )\n",
        "    upper_bound = create_go(\n",
        "        \"Upper Bound\",\n",
        "        \"yhat_upper\",\n",
        "        num_predictions,\n",
        "        line=dict(width=0),\n",
        "        marker=dict(color=\"gray\"),\n",
        "        fillcolor=\"rgba(68, 68, 68, 0.3)\",\n",
        "        fill=\"tonexty\",\n",
        "    )\n",
        "    forecast = create_go(\n",
        "        \"Forecast\", \"yhat\", num_predictions, line=dict(color=\"rgb(31, 119, 180)\")\n",
        "    )\n",
        "    actual = create_go(\"Actual\", \"y\", num_values, marker=dict(color=\"red\"))\n",
        "\n",
        "    # In this case the order of the series is important because of the filling\n",
        "    data = [lower_bound, upper_bound, forecast, actual]\n",
        "\n",
        "    layout = go.Layout(yaxis=dict(title=\"Posts\"), title=title, showlegend=False)\n",
        "    fig = go.Figure(data=data, layout=layout)\n",
        "\n",
        "    # in a Jupyter Notebook, the following should work\n",
        "    #iplot(fig, show_link=False)\n",
        "\n",
        "    # in a Jupyter Book, we save a plot offline and then render it with IFrame\n",
        "    plot_path = f\"/home/savin/Documents/DEV/dataset_fish/Датасет/with_same_ship_ids_between_db/{title}.html\".replace(\" \", \"_\")\n",
        "    plot(fig, filename=plot_path, show_link=False, auto_open=False);\n",
        "    display(IFrame(plot_path, width=width, height=height))\n",
        "\n",
        "\n",
        "show_forecast(cmp_df, prediction_size, 100, \"New posts on Medium\")"
      ]
    },
    {
      "cell_type": "code",
      "execution_count": 26,
      "metadata": {},
      "outputs": [],
      "source": [
        "def inverse_boxcox(y, lambda_):\n",
        "    return np.exp(y) if lambda_ == 0 else np.exp(np.log(lambda_ * y + 1) / lambda_)"
      ]
    },
    {
      "cell_type": "code",
      "execution_count": 30,
      "metadata": {},
      "outputs": [
        {
          "name": "stderr",
          "output_type": "stream",
          "text": [
            "INFO:fbprophet:Disabling yearly seasonality. Run prophet with yearly_seasonality=True to override this.\n",
            "INFO:fbprophet:Disabling daily seasonality. Run prophet with daily_seasonality=True to override this.\n",
            "/home/savin/.local/lib/python3.8/site-packages/fbprophet/forecaster.py:891: FutureWarning:\n",
            "\n",
            "The frame.append method is deprecated and will be removed from pandas in a future version. Use pandas.concat instead.\n",
            "\n"
          ]
        },
        {
          "name": "stdout",
          "output_type": "stream",
          "text": [
            "\n",
            "Initial log joint probability = -46.3408\n",
            "Iteration  1. Log joint probability =    53.6648. Improved by 100.006.\n",
            "Iteration  2. Log joint probability =    95.9164. Improved by 42.2516.\n",
            "Iteration  3. Log joint probability =    106.701. Improved by 10.7844.\n",
            "Iteration  4. Log joint probability =    108.179. Improved by 1.47819.\n",
            "Iteration  5. Log joint probability =    108.775. Improved by 0.596107.\n",
            "Iteration  6. Log joint probability =    109.332. Improved by 0.557017.\n",
            "Iteration  7. Log joint probability =    109.413. Improved by 0.0813447.\n",
            "Iteration  8. Log joint probability =    109.467. Improved by 0.0537379.\n",
            "Iteration  9. Log joint probability =    109.495. Improved by 0.0278621.\n",
            "Iteration 10. Log joint probability =    109.513. Improved by 0.0184165.\n",
            "Iteration 11. Log joint probability =     109.52. Improved by 0.00676251.\n",
            "Iteration 12. Log joint probability =    109.526. Improved by 0.00583012.\n",
            "Iteration 13. Log joint probability =    109.531. Improved by 0.00481372.\n",
            "Iteration 14. Log joint probability =    109.531. Improved by 1.80311e-05.\n",
            "Iteration 15. Log joint probability =    109.533. Improved by 0.00246739.\n",
            "Iteration 16. Log joint probability =    109.534. Improved by 0.000767199.\n",
            "Iteration 17. Log joint probability =    109.535. Improved by 0.000915303.\n",
            "Iteration 18. Log joint probability =    109.536. Improved by 0.000666908.\n",
            "Iteration 19. Log joint probability =    109.536. Improved by 0.00040871.\n",
            "Iteration 20. Log joint probability =    109.536. Improved by 0.000292555.\n",
            "Iteration 21. Log joint probability =    109.537. Improved by 0.000103652.\n",
            "Iteration 22. Log joint probability =    109.537. Improved by 0.000167651.\n",
            "Iteration 23. Log joint probability =    109.537. Improved by 3.95182e-05.\n",
            "Iteration 24. Log joint probability =    109.537. Improved by 6.6535e-05.\n",
            "Iteration 25. Log joint probability =    109.537. Improved by 9.85241e-06.\n",
            "Iteration 26. Log joint probability =    109.537. Improved by 2.41138e-05.\n",
            "Iteration 27. Log joint probability =    109.537. Improved by 2.1749e-05.\n",
            "Iteration 28. Log joint probability =    109.537. Improved by 1.25606e-05.\n",
            "Iteration 29. Log joint probability =    109.537. Improved by 9.16966e-06.\n",
            "Iteration 30. Log joint probability =    109.537. Improved by 7.65245e-06.\n",
            "Iteration 31. Log joint probability =    109.537. Improved by 2.81916e-06.\n",
            "Iteration 32. Log joint probability =    109.537. Improved by 2.74604e-06.\n",
            "Iteration 33. Log joint probability =    109.537. Improved by 1.46147e-06.\n",
            "Iteration 34. Log joint probability =    109.537. Improved by 3.91969e-07.\n",
            "Iteration 35. Log joint probability =    109.537. Improved by 2.43158e-06.\n",
            "Iteration 36. Log joint probability =    109.537. Improved by 3.81623e-07.\n",
            "Iteration 37. Log joint probability =    109.537. Improved by 1.10002e-06.\n",
            "Iteration 38. Log joint probability =    109.537. Improved by 3.36853e-07.\n",
            "Iteration 39. Log joint probability =    109.537. Improved by 5.39995e-07.\n",
            "Iteration 40. Log joint probability =    109.537. Improved by 5.84251e-08.\n",
            "Iteration 41. Log joint probability =    109.537. Improved by 5.55647e-08.\n",
            "Iteration 42. Log joint probability =    109.537. Improved by 2.43199e-07.\n",
            "Iteration 43. Log joint probability =    109.537. Improved by 9.28741e-08.\n",
            "Iteration 44. Log joint probability =    109.537. Improved by 2.2108e-08.\n",
            "Iteration 45. Log joint probability =    109.537. Improved by 1.49277e-07.\n",
            "Iteration 46. Log joint probability =    109.537. Improved by 4.96426e-09.\n"
          ]
        },
        {
          "name": "stderr",
          "output_type": "stream",
          "text": [
            "/home/savin/.local/lib/python3.8/site-packages/fbprophet/forecaster.py:891: FutureWarning:\n",
            "\n",
            "The frame.append method is deprecated and will be removed from pandas in a future version. Use pandas.concat instead.\n",
            "\n",
            "/home/savin/.local/lib/python3.8/site-packages/fbprophet/forecaster.py:891: FutureWarning:\n",
            "\n",
            "The frame.append method is deprecated and will be removed from pandas in a future version. Use pandas.concat instead.\n",
            "\n"
          ]
        }
      ],
      "source": [
        "train_df2 = train_df.copy().set_index(\"ds\")\n",
        "train_df2[\"y\"], lambda_prophet = stats.boxcox(train_df2[\"y\"])\n",
        "train_df2.reset_index(inplace=True)\n",
        "m2 = Prophet()\n",
        "m2.fit(train_df2)\n",
        "future2 = m2.make_future_dataframe(periods=prediction_size)\n",
        "forecast2 = m2.predict(future2)"
      ]
    },
    {
      "cell_type": "code",
      "execution_count": 31,
      "metadata": {},
      "outputs": [],
      "source": [
        "for column in [\"yhat\", \"yhat_lower\", \"yhat_upper\"]:\n",
        "    forecast2[column] = inverse_boxcox(forecast2[column], lambda_prophet)"
      ]
    },
    {
      "cell_type": "code",
      "execution_count": 32,
      "metadata": {},
      "outputs": [
        {
          "name": "stdout",
          "output_type": "stream",
          "text": [
            "MAPE nan\n",
            "MAE nan\n"
          ]
        }
      ],
      "source": [
        "cmp_df2 = make_comparison_dataframe(df, forecast2)\n",
        "for err_name, err_value in calculate_forecast_errors(cmp_df2, prediction_size).items():\n",
        "    print(err_name, err_value)"
      ]
    },
    {
      "cell_type": "code",
      "execution_count": 33,
      "metadata": {},
      "outputs": [
        {
          "data": {
            "text/html": [
              "\n",
              "        <iframe\n",
              "            width=\"800\"\n",
              "            height=\"500\"\n",
              "            src=\"/home/savin/Documents/DEV/dataset_fish/Датасет/with_same_ship_ids_between_db/No_transformations.html\"\n",
              "            frameborder=\"0\"\n",
              "            allowfullscreen\n",
              "            \n",
              "        ></iframe>\n",
              "        "
            ],
            "text/plain": [
              "<IPython.lib.display.IFrame at 0x7f99b32e30a0>"
            ]
          },
          "metadata": {},
          "output_type": "display_data"
        },
        {
          "data": {
            "text/html": [
              "\n",
              "        <iframe\n",
              "            width=\"800\"\n",
              "            height=\"500\"\n",
              "            src=\"/home/savin/Documents/DEV/dataset_fish/Датасет/with_same_ship_ids_between_db/Box–Cox_transformation.html\"\n",
              "            frameborder=\"0\"\n",
              "            allowfullscreen\n",
              "            \n",
              "        ></iframe>\n",
              "        "
            ],
            "text/plain": [
              "<IPython.lib.display.IFrame at 0x7f99bbda4550>"
            ]
          },
          "metadata": {},
          "output_type": "display_data"
        }
      ],
      "source": [
        "show_forecast(cmp_df, prediction_size, 100, \"No transformations\")\n",
        "show_forecast(cmp_df2, prediction_size, 100, \"Box–Cox transformation\")"
      ]
    },
    {
      "cell_type": "code",
      "execution_count": 48,
      "metadata": {},
      "outputs": [],
      "source": [
        "for col in id_own:\n",
        "    rate_own[f'{col}'].dropna()\n",
        "    "
      ]
    },
    {
      "cell_type": "code",
      "execution_count": null,
      "metadata": {},
      "outputs": [
        {
          "name": "stderr",
          "output_type": "stream",
          "text": [
            "/tmp/ipykernel_643645/391609084.py:10: DeprecationWarning: `np.long` is a deprecated alias for `np.compat.long`. To silence this warning, use `np.compat.long` by itself. In the likely event your code does not need to work on Python 2 you can use the builtin `int` for which `np.compat.long` is itself an alias. Doing this will not modify any behaviour and is safe. When replacing `np.long`, you may wish to use e.g. `np.int64` or `np.int32` to specify the precision. If you wish to review your current use, check the release note link for additional information.\n",
            "Deprecated in NumPy 1.20; for more details and guidance: https://numpy.org/devdocs/release/1.20.0-notes.html#deprecations\n",
            "  torch.tensor((y_test.values).astype(np.long))\n"
          ]
        }
      ],
      "source": []
    },
    {
      "cell_type": "code",
      "execution_count": 14,
      "metadata": {},
      "outputs": [],
      "source": [
        "time_line = df_catch.drop(columns=['id_ves', 'id_region', 'id_fish', 'id_regime','permit','id_own'])"
      ]
    },
    {
      "cell_type": "code",
      "execution_count": 20,
      "metadata": {},
      "outputs": [],
      "source": [
        "time_line['date'] = pd.to_datetime(time_line['date'])"
      ]
    },
    {
      "cell_type": "code",
      "execution_count": 28,
      "metadata": {},
      "outputs": [],
      "source": [
        "time_line.index = time_line['date']"
      ]
    },
    {
      "cell_type": "code",
      "execution_count": 31,
      "metadata": {},
      "outputs": [],
      "source": [
        "time_line = time_line.drop(columns=['date'])"
      ]
    },
    {
      "cell_type": "code",
      "execution_count": 35,
      "metadata": {},
      "outputs": [],
      "source": [
        "scaler = StandardScaler()\n",
        "time_line['catch_volume'] = scaler.fit_transform(time_line['catch_volume'].values.reshape(-1,1))\n"
      ]
    },
    {
      "cell_type": "code",
      "execution_count": 38,
      "metadata": {},
      "outputs": [
        {
          "data": {
            "text/html": [
              "<div>\n",
              "<style scoped>\n",
              "    .dataframe tbody tr th:only-of-type {\n",
              "        vertical-align: middle;\n",
              "    }\n",
              "\n",
              "    .dataframe tbody tr th {\n",
              "        vertical-align: top;\n",
              "    }\n",
              "\n",
              "    .dataframe thead th {\n",
              "        text-align: right;\n",
              "    }\n",
              "</style>\n",
              "<table border=\"1\" class=\"dataframe\">\n",
              "  <thead>\n",
              "    <tr style=\"text-align: right;\">\n",
              "      <th></th>\n",
              "      <th>catch_volume</th>\n",
              "    </tr>\n",
              "    <tr>\n",
              "      <th>date</th>\n",
              "      <th></th>\n",
              "    </tr>\n",
              "  </thead>\n",
              "  <tbody>\n",
              "    <tr>\n",
              "      <th>2022-01-01</th>\n",
              "      <td>0.286046</td>\n",
              "    </tr>\n",
              "    <tr>\n",
              "      <th>2022-01-01</th>\n",
              "      <td>-0.383671</td>\n",
              "    </tr>\n",
              "    <tr>\n",
              "      <th>2022-01-01</th>\n",
              "      <td>0.167367</td>\n",
              "    </tr>\n",
              "    <tr>\n",
              "      <th>2022-01-01</th>\n",
              "      <td>-0.190315</td>\n",
              "    </tr>\n",
              "    <tr>\n",
              "      <th>2022-01-01</th>\n",
              "      <td>-0.392502</td>\n",
              "    </tr>\n",
              "  </tbody>\n",
              "</table>\n",
              "</div>"
            ],
            "text/plain": [
              "            catch_volume\n",
              "date                    \n",
              "2022-01-01      0.286046\n",
              "2022-01-01     -0.383671\n",
              "2022-01-01      0.167367\n",
              "2022-01-01     -0.190315\n",
              "2022-01-01     -0.392502"
            ]
          },
          "execution_count": 38,
          "metadata": {},
          "output_type": "execute_result"
        }
      ],
      "source": [
        "time_line.head()"
      ]
    },
    {
      "cell_type": "code",
      "execution_count": 40,
      "metadata": {},
      "outputs": [
        {
          "data": {
            "image/png": "[encoded data removed]",
            "text/plain": [
              "<Figure size 432x288 with 1 Axes>"
            ]
          },
          "metadata": {
            "needs_background": "light"
          },
          "output_type": "display_data"
        }
      ],
      "source": [
        "fig, ax = plt.subplots()\n",
        "time_line.plot(legend=False, ax=ax)\n",
        "plt.show()"
      ]
    }
  ],
  "metadata": {
    "accelerator": "GPU",
    "colab": {
      "collapsed_sections": [],
      "name": "ood_detection.ipynb",
      "provenance": [],
      "toc_visible": true
    },
    "interpreter": {
      "hash": "4b2fecc064183793f8c0ea93cbbf4db177fc7dac51d6ac04a6e4610799014929"
    },
    "kernelspec": {
      "display_name": "Python 3.7.4 64-bit",
      "language": "python",
      "name": "python3"
    },
    "language_info": {
      "codemirror_mode": {
        "name": "ipython",
        "version": 3
      },
      "file_extension": ".py",
      "mimetype": "text/x-python",
      "name": "python",
      "nbconvert_exporter": "python",
      "pygments_lexer": "ipython3",
      "version": "3.8.10"
    }
  },
  "nbformat": 4,
  "nbformat_minor": 0
}
